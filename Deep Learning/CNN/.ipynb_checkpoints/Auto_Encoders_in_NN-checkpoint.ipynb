{
 "cells": [
  {
   "cell_type": "code",
   "execution_count": 0,
   "metadata": {
    "colab": {},
    "colab_type": "code",
    "id": "rMJXABCU4MIx"
   },
   "outputs": [],
   "source": [
    "#Unsupervised Classification\n",
    "#Noise Removal / Image De-Noising"
   ]
  },
  {
   "cell_type": "code",
   "execution_count": 3,
   "metadata": {
    "colab": {
     "base_uri": "https://localhost:8080/",
     "height": 34
    },
    "colab_type": "code",
    "id": "Qul8_LYf4MJM",
    "outputId": "f49a9119-6dd7-484e-fa05-d38a8f093075"
   },
   "outputs": [
    {
     "name": "stderr",
     "output_type": "stream",
     "text": [
      "Using TensorFlow backend.\n"
     ]
    }
   ],
   "source": [
    "import numpy as np\n",
    "import matplotlib.pyplot as plt\n",
    "%matplotlib inline\n",
    "\n",
    "from keras.utils import np_utils\n",
    "from keras.layers import Input, Dense, Activation, Flatten, Conv2D, Dropout, MaxPooling2D, UpSampling2D\n",
    "from keras.datasets import mnist\n",
    "from keras.models import Model"
   ]
  },
  {
   "cell_type": "code",
   "execution_count": 4,
   "metadata": {
    "colab": {
     "base_uri": "https://localhost:8080/",
     "height": 52
    },
    "colab_type": "code",
    "id": "_TYlPPeZ4MJp",
    "outputId": "6334c5e4-2bbf-4493-d1d8-f92ad7e64587"
   },
   "outputs": [
    {
     "name": "stdout",
     "output_type": "stream",
     "text": [
      "Downloading data from https://s3.amazonaws.com/img-datasets/mnist.npz\n",
      "11493376/11490434 [==============================] - 1s 0us/step\n"
     ]
    }
   ],
   "source": [
    "(x_train, _),(x_test, _)=mnist.load_data()"
   ]
  },
  {
   "cell_type": "code",
   "execution_count": 0,
   "metadata": {
    "colab": {},
    "colab_type": "code",
    "id": "3Dk4IiLd4MJ5"
   },
   "outputs": [],
   "source": [
    "x_train=x_train.astype('float') / 255\n",
    "x_test=x_test.astype('float') / 255 #Normalization"
   ]
  },
  {
   "cell_type": "code",
   "execution_count": 0,
   "metadata": {
    "colab": {},
    "colab_type": "code",
    "id": "Wjkdgpk04MKI"
   },
   "outputs": [],
   "source": [
    "x_train=x_train.reshape(-1,28,28,1)\n",
    "x_test=x_test.reshape(-1,28,28,1) #-1 is no.of examples"
   ]
  },
  {
   "cell_type": "code",
   "execution_count": 7,
   "metadata": {
    "colab": {
     "base_uri": "https://localhost:8080/",
     "height": 52
    },
    "colab_type": "code",
    "id": "jZ5Go8Xb4MKT",
    "outputId": "b0f571dc-099e-406b-a4a4-676620f374d2"
   },
   "outputs": [
    {
     "name": "stdout",
     "output_type": "stream",
     "text": [
      "(60000, 28, 28, 1)\n"
     ]
    },
    {
     "data": {
      "text/plain": [
       "(10000, 28, 28, 1)"
      ]
     },
     "execution_count": 7,
     "metadata": {
      "tags": []
     },
     "output_type": "execute_result"
    }
   ],
   "source": [
    "print(x_train.shape)\n",
    "x_test.shape"
   ]
  },
  {
   "cell_type": "code",
   "execution_count": 0,
   "metadata": {
    "colab": {},
    "colab_type": "code",
    "id": "QYr41QQt4MKi"
   },
   "outputs": [],
   "source": [
    "#Add noise to images\n",
    "noise_factor=0.5\n",
    "x_train_noisy=x_train + noise_factor*np.random.normal(loc=0.0\n",
    "                                                    ,scale=1.0\n",
    "                                                    ,size=x_train.shape)\n",
    "x_test_noisy=x_test + noise_factor*np.random.normal(loc=0.0\n",
    "                                                    ,scale=1.0\n",
    "                                                    ,size=x_test.shape)\n",
    "x_train_noisy=np.clip(x_train_noisy,0.,1.)\n",
    "x_test_noisy=np.clip(x_test_noisy,0.,1.)"
   ]
  },
  {
   "cell_type": "code",
   "execution_count": 9,
   "metadata": {
    "colab": {
     "base_uri": "https://localhost:8080/",
     "height": 146
    },
    "colab_type": "code",
    "id": "BkvQGycC4MKt",
    "outputId": "be695261-8b36-44bc-9174-6e933d3ac8aa"
   },
   "outputs": [
    {
     "data": {
      "image/png": "[encoded data removed]",
      "text/plain": [
       "<Figure size 1440x144 with 10 Axes>"
      ]
     },
     "metadata": {
      "tags": []
     },
     "output_type": "display_data"
    }
   ],
   "source": [
    "n=10\n",
    "plt.figure(figsize=(20,2))\n",
    "for i in range(1,n+1):\n",
    "    ax = plt.subplot(1,n,i)\n",
    "    plt.imshow(x_test_noisy[i].reshape(28,28))\n",
    "    plt.gray()\n",
    "plt.show()"
   ]
  },
  {
   "cell_type": "code",
   "execution_count": 0,
   "metadata": {
    "colab": {},
    "colab_type": "code",
    "id": "B6ZSshzR4MK7"
   },
   "outputs": [],
   "source": [
    "#AUTO-ENCODER"
   ]
  },
  {
   "cell_type": "code",
   "execution_count": 11,
   "metadata": {
    "colab": {
     "base_uri": "https://localhost:8080/",
     "height": 819
    },
    "colab_type": "code",
    "id": "FzDK0zfN4MLL",
    "outputId": "899f7b74-34b8-4784-c18d-8ba3e4cb5064"
   },
   "outputs": [
    {
     "name": "stderr",
     "output_type": "stream",
     "text": [
      "WARNING: Logging before flag parsing goes to stderr.\n",
      "W0702 17:51:13.157000 139732556236672 deprecation_wrapper.py:119] From /usr/local/lib/python3.6/dist-packages/keras/backend/tensorflow_backend.py:74: The name tf.get_default_graph is deprecated. Please use tf.compat.v1.get_default_graph instead.\n",
      "\n",
      "W0702 17:51:13.194980 139732556236672 deprecation_wrapper.py:119] From /usr/local/lib/python3.6/dist-packages/keras/backend/tensorflow_backend.py:517: The name tf.placeholder is deprecated. Please use tf.compat.v1.placeholder instead.\n",
      "\n",
      "W0702 17:51:13.203333 139732556236672 deprecation_wrapper.py:119] From /usr/local/lib/python3.6/dist-packages/keras/backend/tensorflow_backend.py:4138: The name tf.random_uniform is deprecated. Please use tf.random.uniform instead.\n",
      "\n",
      "W0702 17:51:13.228723 139732556236672 deprecation_wrapper.py:119] From /usr/local/lib/python3.6/dist-packages/keras/backend/tensorflow_backend.py:3976: The name tf.nn.max_pool is deprecated. Please use tf.nn.max_pool2d instead.\n",
      "\n",
      "W0702 17:51:13.261476 139732556236672 deprecation_wrapper.py:119] From /usr/local/lib/python3.6/dist-packages/keras/backend/tensorflow_backend.py:2018: The name tf.image.resize_nearest_neighbor is deprecated. Please use tf.compat.v1.image.resize_nearest_neighbor instead.\n",
      "\n",
      "W0702 17:51:13.292417 139732556236672 deprecation_wrapper.py:119] From /usr/local/lib/python3.6/dist-packages/keras/optimizers.py:790: The name tf.train.Optimizer is deprecated. Please use tf.compat.v1.train.Optimizer instead.\n",
      "\n",
      "W0702 17:51:13.308131 139732556236672 deprecation_wrapper.py:119] From /usr/local/lib/python3.6/dist-packages/keras/backend/tensorflow_backend.py:3376: The name tf.log is deprecated. Please use tf.math.log instead.\n",
      "\n",
      "W0702 17:51:13.313843 139732556236672 deprecation.py:323] From /usr/local/lib/python3.6/dist-packages/tensorflow/python/ops/nn_impl.py:180: add_dispatch_support.<locals>.wrapper (from tensorflow.python.ops.array_ops) is deprecated and will be removed in a future version.\n",
      "Instructions for updating:\n",
      "Use tf.where in 2.0, which has the same broadcast rule as np.where\n"
     ]
    },
    {
     "name": "stdout",
     "output_type": "stream",
     "text": [
      "_________________________________________________________________\n",
      "Layer (type)                 Output Shape              Param #   \n",
      "=================================================================\n",
      "input_1 (InputLayer)         (None, 28, 28, 1)         0         \n",
      "_________________________________________________________________\n",
      "conv2d_1 (Conv2D)            (None, 28, 28, 32)        320       \n",
      "_________________________________________________________________\n",
      "max_pooling2d_1 (MaxPooling2 (None, 14, 14, 32)        0         \n",
      "_________________________________________________________________\n",
      "conv2d_2 (Conv2D)            (None, 14, 14, 32)        9248      \n",
      "_________________________________________________________________\n",
      "max_pooling2d_2 (MaxPooling2 (None, 7, 7, 32)          0         \n",
      "_________________________________________________________________\n",
      "conv2d_3 (Conv2D)            (None, 7, 7, 32)          9248      \n",
      "_________________________________________________________________\n",
      "up_sampling2d_1 (UpSampling2 (None, 14, 14, 32)        0         \n",
      "_________________________________________________________________\n",
      "conv2d_4 (Conv2D)            (None, 14, 14, 32)        9248      \n",
      "_________________________________________________________________\n",
      "up_sampling2d_2 (UpSampling2 (None, 28, 28, 32)        0         \n",
      "_________________________________________________________________\n",
      "conv2d_5 (Conv2D)            (None, 28, 28, 1)         289       \n",
      "=================================================================\n",
      "Total params: 28,353\n",
      "Trainable params: 28,353\n",
      "Non-trainable params: 0\n",
      "_________________________________________________________________\n"
     ]
    }
   ],
   "source": [
    "input_img=Input(shape=(28,28,1))\n",
    "x=Conv2D(32,(3,3),activation='relu',padding='same')(input_img)\n",
    "x=MaxPooling2D((2,2),padding='same')(x)\n",
    "\n",
    "x=Conv2D(32,(3,3),activation='relu',padding='same')(x)\n",
    "encoded=MaxPooling2D((2,2),padding='same')(x) \n",
    "#(7,7,32) size\n",
    "\n",
    "x=Conv2D(32,(3,3),activation='relu',padding='same')(encoded)\n",
    "x=UpSampling2D((2,2))(x)\n",
    "\n",
    "x=Conv2D(32,(3,3),activation='relu',padding='same')(x)\n",
    "x=UpSampling2D((2,2))(x)\n",
    "\n",
    "decoded=Conv2D(1,(3,3),activation='sigmoid',padding='same')(x)\n",
    "\n",
    "autoencoder=Model(input_img,decoded)\n",
    "autoencoder.compile(optimizer='adadelta',loss='binary_crossentropy')\n",
    "autoencoder.summary()"
   ]
  },
  {
   "cell_type": "code",
   "execution_count": 12,
   "metadata": {
    "colab": {
     "base_uri": "https://localhost:8080/",
     "height": 697
    },
    "colab_type": "code",
    "id": "W8fhp2VW4MLb",
    "outputId": "f877a1e4-cecb-4fd6-a897-f312ea4727f1"
   },
   "outputs": [
    {
     "name": "stderr",
     "output_type": "stream",
     "text": [
      "W0702 17:51:15.800294 139732556236672 deprecation_wrapper.py:119] From /usr/local/lib/python3.6/dist-packages/keras/backend/tensorflow_backend.py:986: The name tf.assign_add is deprecated. Please use tf.compat.v1.assign_add instead.\n",
      "\n"
     ]
    },
    {
     "name": "stdout",
     "output_type": "stream",
     "text": [
      "Train on 60000 samples, validate on 10000 samples\n"
     ]
    },
    {
     "name": "stderr",
     "output_type": "stream",
     "text": [
      "W0702 17:51:19.132415 139732556236672 deprecation_wrapper.py:119] From /usr/local/lib/python3.6/dist-packages/keras/callbacks.py:850: The name tf.summary.merge_all is deprecated. Please use tf.compat.v1.summary.merge_all instead.\n",
      "\n",
      "W0702 17:51:19.133905 139732556236672 deprecation_wrapper.py:119] From /usr/local/lib/python3.6/dist-packages/keras/callbacks.py:856: The name tf.summary.FileWriter is deprecated. Please use tf.compat.v1.summary.FileWriter instead.\n",
      "\n"
     ]
    },
    {
     "name": "stdout",
     "output_type": "stream",
     "text": [
      "Epoch 1/15\n",
      "60000/60000 [==============================] - 7s 110us/step - loss: 0.2259 - val_loss: 0.1467\n",
      "Epoch 2/15\n",
      "60000/60000 [==============================] - 3s 51us/step - loss: 0.1352 - val_loss: 0.1245\n",
      "Epoch 3/15\n",
      "60000/60000 [==============================] - 3s 51us/step - loss: 0.1237 - val_loss: 0.1233\n",
      "Epoch 4/15\n",
      "60000/60000 [==============================] - 3s 51us/step - loss: 0.1181 - val_loss: 0.1122\n",
      "Epoch 5/15\n",
      "60000/60000 [==============================] - 3s 52us/step - loss: 0.1140 - val_loss: 0.1118\n",
      "Epoch 6/15\n",
      "60000/60000 [==============================] - 3s 52us/step - loss: 0.1113 - val_loss: 0.1080\n",
      "Epoch 7/15\n",
      "60000/60000 [==============================] - 3s 51us/step - loss: 0.1093 - val_loss: 0.1063\n",
      "Epoch 8/15\n",
      "60000/60000 [==============================] - 3s 51us/step - loss: 0.1076 - val_loss: 0.1079\n",
      "Epoch 9/15\n",
      "60000/60000 [==============================] - 3s 51us/step - loss: 0.1066 - val_loss: 0.1064\n",
      "Epoch 10/15\n",
      "60000/60000 [==============================] - 3s 51us/step - loss: 0.1056 - val_loss: 0.1059\n",
      "Epoch 11/15\n",
      "60000/60000 [==============================] - 3s 51us/step - loss: 0.1049 - val_loss: 0.1024\n",
      "Epoch 12/15\n",
      "60000/60000 [==============================] - 3s 51us/step - loss: 0.1042 - val_loss: 0.1038\n",
      "Epoch 13/15\n",
      "60000/60000 [==============================] - 3s 52us/step - loss: 0.1036 - val_loss: 0.1016\n",
      "Epoch 14/15\n",
      "60000/60000 [==============================] - 3s 52us/step - loss: 0.1030 - val_loss: 0.1027\n",
      "Epoch 15/15\n",
      "60000/60000 [==============================] - 3s 51us/step - loss: 0.1025 - val_loss: 0.1016\n"
     ]
    },
    {
     "data": {
      "text/plain": [
       "<keras.callbacks.History at 0x7f15b9156080>"
      ]
     },
     "execution_count": 12,
     "metadata": {
      "tags": []
     },
     "output_type": "execute_result"
    }
   ],
   "source": [
    "from keras.callbacks import TensorBoard\n",
    "autoencoder.fit(x_train_noisy,x_train,batch_size=256, epochs=15,validation_data=(x_test_noisy,x_test),callbacks=[TensorBoard(log_dir='/tmp/tb', histogram_freq=0, write_graph=False)])"
   ]
  },
  {
   "cell_type": "code",
   "execution_count": 13,
   "metadata": {
    "colab": {
     "base_uri": "https://localhost:8080/",
     "height": 52
    },
    "colab_type": "code",
    "id": "Z9QvUj7f4MLo",
    "outputId": "eb9cd637-de00-4baf-ce94-97b4e3f5cb35"
   },
   "outputs": [
    {
     "name": "stdout",
     "output_type": "stream",
     "text": [
      "(10000, 28, 28, 1)\n"
     ]
    },
    {
     "data": {
      "text/plain": [
       "(10000, 28, 28, 1)"
      ]
     },
     "execution_count": 13,
     "metadata": {
      "tags": []
     },
     "output_type": "execute_result"
    }
   ],
   "source": [
    "print(x_test_noisy.shape)\n",
    "x_test.shape"
   ]
  },
  {
   "cell_type": "code",
   "execution_count": 0,
   "metadata": {
    "colab": {},
    "colab_type": "code",
    "id": "LpC50PaE4MLy"
   },
   "outputs": [],
   "source": [
    "#H/W : PLOT THE IMAGES"
   ]
  },
  {
   "cell_type": "code",
   "execution_count": 0,
   "metadata": {
    "colab": {},
    "colab_type": "code",
    "id": "lIaIQSDG4j9B"
   },
   "outputs": [],
   "source": [
    "y=autoencoder.predict(x_test)"
   ]
  },
  {
   "cell_type": "code",
   "execution_count": 27,
   "metadata": {
    "colab": {
     "base_uri": "https://localhost:8080/",
     "height": 310
    },
    "colab_type": "code",
    "id": "UpFkSVkK1Nm9",
    "outputId": "b94782f2-3022-4a16-8d0f-32fef6bc79ce"
   },
   "outputs": [
    {
     "name": "stdout",
     "output_type": "stream",
     "text": [
      "BEFORE : \n"
     ]
    },
    {
     "data": {
      "image/png": "[encoded data removed]",
      "text/plain": [
       "<Figure size 1440x144 with 10 Axes>"
      ]
     },
     "metadata": {
      "tags": []
     },
     "output_type": "display_data"
    },
    {
     "name": "stdout",
     "output_type": "stream",
     "text": [
      "AFTER : \n"
     ]
    },
    {
     "data": {
      "image/png": "[encoded data removed]",
      "text/plain": [
       "<Figure size 1440x144 with 10 Axes>"
      ]
     },
     "metadata": {
      "tags": []
     },
     "output_type": "display_data"
    }
   ],
   "source": [
    "plt.figure(figsize=(20,2))\n",
    "print('BEFORE : ')\n",
    "for i in range(1,n+1):\n",
    "    ax = plt.subplot(1,n,i)\n",
    "    plt.imshow(x_test_noisy[i].reshape(28,28))\n",
    "    plt.gray()\n",
    "plt.show()\n",
    "plt.figure(figsize=(20,2))\n",
    "print('AFTER : ')\n",
    "for i in range(1,n+1):\n",
    "    ax = plt.subplot(1,n,i)\n",
    "    plt.imshow(y[i].reshape(28,28))\n",
    "    plt.gray()\n",
    "plt.show()"
   ]
  },
  {
   "cell_type": "code",
   "execution_count": 0,
   "metadata": {
    "colab": {},
    "colab_type": "code",
    "id": "Mi-BEUNW57kb"
   },
   "outputs": [],
   "source": []
  }
 ],
 "metadata": {
  "accelerator": "GPU",
  "colab": {
   "collapsed_sections": [],
   "name": "Auto Encoders in NN.ipynb",
   "provenance": [],
   "version": "0.3.2"
  },
  "kernelspec": {
   "display_name": "Python 3",
   "language": "python",
   "name": "python3"
  },
  "language_info": {
   "codemirror_mode": {
    "name": "ipython",
    "version": 3
   },
   "file_extension": ".py",
   "mimetype": "text/x-python",
   "name": "python",
   "nbconvert_exporter": "python",
   "pygments_lexer": "ipython3",
   "version": "3.8.0"
  }
 },
 "nbformat": 4,
 "nbformat_minor": 1
}
