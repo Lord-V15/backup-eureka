{
 "cells": [
  {
   "cell_type": "markdown",
   "metadata": {},
   "source": [
    "# This is a Heading\n",
    "    ## Train on 0-4 but predict on 5-9"
   ]
  },
  {
   "cell_type": "code",
   "execution_count": 1,
   "metadata": {},
   "outputs": [
    {
     "name": "stderr",
     "output_type": "stream",
     "text": [
      "Using TensorFlow backend.\n"
     ]
    }
   ],
   "source": [
    "import numpy as np\n",
    "import matplotlib.pyplot as plt\n",
    "%matplotlib inline\n",
    "import keras\n",
    "from keras.datasets import mnist"
   ]
  },
  {
   "cell_type": "code",
   "execution_count": 2,
   "metadata": {},
   "outputs": [],
   "source": [
    "from keras.layers import Dense, Flatten, Activation, Flatten, Convolution2D, Dropout, MaxPooling2D"
   ]
  },
  {
   "cell_type": "code",
   "execution_count": 3,
   "metadata": {},
   "outputs": [],
   "source": [
    "from keras.models import Sequential\n",
    "from keras.utils import np_utils"
   ]
  },
  {
   "cell_type": "code",
   "execution_count": 4,
   "metadata": {},
   "outputs": [],
   "source": [
    "(x_train, y_train),(x_test,y_test)=mnist.load_data()"
   ]
  },
  {
   "cell_type": "code",
   "execution_count": 5,
   "metadata": {},
   "outputs": [],
   "source": [
    "n=20000 #No.of train examples\n",
    "N=y_test.shape[0] #No.of test examples\n",
    "\n",
    "x_train_zerotofour = []\n",
    "x_test_zerotofour = []\n",
    "y_train_zerotofour = []\n",
    "y_test_zerotofour = []\n",
    "\n",
    "x_train_fivetonine = []\n",
    "x_test_fivetonine = []\n",
    "y_train_fivetonine = []\n",
    "y_test_fivetonine = []\n",
    "\n",
    "for i in range(n):\n",
    "    if y_train[i]<5:\n",
    "        x_train_zerotofour.append(x_train[i] /255 )\n",
    "        y_train_zerotofour.append(y_train[i])\n",
    "    else:\n",
    "        x_train_fivetonine.append(x_train[i]/255 )\n",
    "        y_train_fivetonine.append(y_train[i])\n",
    "        \n",
    "#FOR TESTING VALUES        \n",
    "for i in range(N):\n",
    "    if y_test[i]<5:\n",
    "        x_test_zerotofour.append(x_test[i] /255)\n",
    "        y_test_zerotofour.append(y_test[i])\n",
    "    else:\n",
    "        x_test_fivetonine.append(x_test[i] /255 )\n",
    "        y_test_fivetonine.append(y_test[i])"
   ]
  },
  {
   "cell_type": "code",
   "execution_count": 6,
   "metadata": {},
   "outputs": [],
   "source": [
    "X_train_zerotofour=np.asarray(x_train_zerotofour).reshape(-1,28,28,1)\n",
    "X_test_zerotofour=np.asarray(x_test_zerotofour).reshape(-1,28,28,1)\n",
    "\n",
    "X_train_fivetonine=np.asarray(x_train_fivetonine).reshape(-1,28,28,1)\n",
    "X_test_fivetonine=np.asarray(x_test_fivetonine).reshape(-1,28,28,1)\n",
    "\n",
    "Y_train_zerotofour=np_utils.to_categorical(np.asarray(y_train_zerotofour),num_classes=5)\n",
    "Y_test_zerotofour=np_utils.to_categorical(np.asarray(y_test_zerotofour),num_classes=5)\n",
    "\n",
    "Y_train_fivetonine=np_utils.to_categorical(np.asarray(y_train_fivetonine),num_classes=10)\n",
    "Y_test_fivetonine=np_utils.to_categorical(np.asarray(y_test_fivetonine),num_classes=10)"
   ]
  },
  {
   "cell_type": "code",
   "execution_count": 7,
   "metadata": {},
   "outputs": [
    {
     "name": "stdout",
     "output_type": "stream",
     "text": [
      "(10225, 28, 28, 1) (5139, 28, 28, 1) (10225, 5) (5139, 5)\n"
     ]
    }
   ],
   "source": [
    "print(X_train_zerotofour.shape, X_test_zerotofour.shape, Y_train_zerotofour.shape, Y_test_zerotofour.shape )"
   ]
  },
  {
   "cell_type": "code",
   "execution_count": 8,
   "metadata": {},
   "outputs": [
    {
     "name": "stdout",
     "output_type": "stream",
     "text": [
      "(9775, 28, 28, 1) (4861, 28, 28, 1) (9775, 10) (4861, 10)\n"
     ]
    }
   ],
   "source": [
    "print(X_train_fivetonine.shape, X_test_fivetonine.shape, Y_train_fivetonine.shape, Y_test_fivetonine.shape )"
   ]
  },
  {
   "cell_type": "code",
   "execution_count": 15,
   "metadata": {},
   "outputs": [
    {
     "name": "stdout",
     "output_type": "stream",
     "text": [
      "WARNING:tensorflow:From /home/lord/anaconda3/lib/python3.7/site-packages/keras/backend/tensorflow_backend.py:3445: calling dropout (from tensorflow.python.ops.nn_ops) with keep_prob is deprecated and will be removed in a future version.\n",
      "Instructions for updating:\n",
      "Please use `rate` instead of `keep_prob`. Rate should be set to `rate = 1 - keep_prob`.\n",
      "_________________________________________________________________\n",
      "Layer (type)                 Output Shape              Param #   \n",
      "=================================================================\n",
      "conv2d_14 (Conv2D)           (None, 24, 24, 32)        832       \n",
      "_________________________________________________________________\n",
      "conv2d_15 (Conv2D)           (None, 20, 20, 16)        12816     \n",
      "_________________________________________________________________\n",
      "max_pooling2d_5 (MaxPooling2 (None, 10, 10, 16)        0         \n",
      "_________________________________________________________________\n",
      "conv2d_16 (Conv2D)           (None, 8, 8, 8)           1160      \n",
      "_________________________________________________________________\n",
      "flatten_5 (Flatten)          (None, 512)               0         \n",
      "_________________________________________________________________\n",
      "dropout_5 (Dropout)          (None, 512)               0         \n",
      "_________________________________________________________________\n",
      "dense_7 (Dense)              (None, 128)               65664     \n",
      "_________________________________________________________________\n",
      "activation_5 (Activation)    (None, 128)               0         \n",
      "_________________________________________________________________\n",
      "dense_8 (Dense)              (None, 5)                 645       \n",
      "_________________________________________________________________\n",
      "activation_6 (Activation)    (None, 5)                 0         \n",
      "=================================================================\n",
      "Total params: 81,117\n",
      "Trainable params: 81,117\n",
      "Non-trainable params: 0\n",
      "_________________________________________________________________\n"
     ]
    }
   ],
   "source": [
    "model = Sequential()\n",
    "model.add(Convolution2D(32,5, input_shape=(28,28,1),activation='relu'))\n",
    "model.add(Convolution2D(16,5,activation='relu'))\n",
    "model.add(MaxPooling2D(pool_size=(2,2)))\n",
    "model.add(Convolution2D(8,3,activation='relu'))\n",
    "model.add(Flatten())\n",
    "model.add(Dropout(0.4))\n",
    "model.add(Dense(128))\n",
    "model.add(Activation('relu'))\n",
    "model.add(Dense(5))\n",
    "model.add(Activation('softmax'))\n",
    "model.summary()"
   ]
  },
  {
   "cell_type": "code",
   "execution_count": 16,
   "metadata": {},
   "outputs": [],
   "source": [
    "model.compile(loss='categorical_crossentropy',\n",
    "             optimizer='adam',\n",
    "             metrics=['accuracy'])"
   ]
  },
  {
   "cell_type": "code",
   "execution_count": 24,
   "metadata": {},
   "outputs": [
    {
     "name": "stdout",
     "output_type": "stream",
     "text": [
      "0:00:05.005332\n"
     ]
    }
   ],
   "source": [
    "import time\n",
    "import datetime\n",
    "\n",
    "start=datetime.datetime.now()\n",
    "time.sleep(5)\n",
    "end=datetime.datetime.now()\n",
    "print(end-start)"
   ]
  },
  {
   "cell_type": "code",
   "execution_count": 25,
   "metadata": {},
   "outputs": [
    {
     "name": "stdout",
     "output_type": "stream",
     "text": [
      "WARNING:tensorflow:From /home/lord/anaconda3/lib/python3.7/site-packages/tensorflow/python/ops/math_ops.py:3066: to_int32 (from tensorflow.python.ops.math_ops) is deprecated and will be removed in a future version.\n",
      "Instructions for updating:\n",
      "Use tf.cast instead.\n",
      "Train on 10225 samples, validate on 5139 samples\n",
      "Epoch 1/5\n",
      " - 13s - loss: 0.3076 - acc: 0.9033 - val_loss: 0.0442 - val_acc: 0.9885\n",
      "Epoch 2/5\n",
      " - 12s - loss: 0.0763 - acc: 0.9773 - val_loss: 0.0289 - val_acc: 0.9912\n",
      "Epoch 3/5\n",
      " - 12s - loss: 0.0505 - acc: 0.9839 - val_loss: 0.0178 - val_acc: 0.9947\n",
      "Epoch 4/5\n",
      " - 12s - loss: 0.0424 - acc: 0.9864 - val_loss: 0.0173 - val_acc: 0.9946\n",
      "Epoch 5/5\n",
      " - 12s - loss: 0.0307 - acc: 0.9900 - val_loss: 0.0177 - val_acc: 0.9942\n",
      "0:01:00.749720\n"
     ]
    }
   ],
   "source": [
    "start=datetime.datetime.now()\n",
    "\n",
    "model.fit(X_train_zerotofour, Y_train_zerotofour,\n",
    "         epochs=5,batch_size=100,shuffle=True,verbose=2,\n",
    "         validation_data=(X_test_zerotofour, Y_test_zerotofour))\n",
    "\n",
    "end=datetime.datetime.now()\n",
    "print('\\n'end-start)"
   ]
  },
  {
   "cell_type": "code",
   "execution_count": 30,
   "metadata": {},
   "outputs": [
    {
     "data": {
      "text/plain": [
       "[<keras.layers.convolutional.Conv2D at 0x7f8c3a9199b0>,\n",
       " <keras.layers.convolutional.Conv2D at 0x7f8c3a9197b8>,\n",
       " <keras.layers.pooling.MaxPooling2D at 0x7f8c3a8b2438>,\n",
       " <keras.layers.convolutional.Conv2D at 0x7f8c3a8c8860>,\n",
       " <keras.layers.core.Flatten at 0x7f8c3a8b22b0>,\n",
       " <keras.layers.core.Dropout at 0x7f8c3a875390>,\n",
       " <keras.layers.core.Dense at 0x7f8c3a875358>,\n",
       " <keras.layers.core.Activation at 0x7f8c3a88d2e8>,\n",
       " <keras.layers.core.Dense at 0x7f8c3a8a3b70>,\n",
       " <keras.layers.core.Activation at 0x7f8c3a8a3668>]"
      ]
     },
     "execution_count": 30,
     "metadata": {},
     "output_type": "execute_result"
    }
   ],
   "source": [
    "model.layers"
   ]
  },
  {
   "cell_type": "code",
   "execution_count": 32,
   "metadata": {},
   "outputs": [
    {
     "name": "stdout",
     "output_type": "stream",
     "text": [
      "False\n",
      "False\n",
      "False\n",
      "False\n",
      "False\n",
      "False\n",
      "True\n",
      "True\n",
      "True\n",
      "True\n"
     ]
    }
   ],
   "source": [
    "for l in model.layers[:6]:\n",
    "    l.trainable=False\n",
    "\n",
    "for l in model.layers:\n",
    "    print(l.trainable)"
   ]
  },
  {
   "cell_type": "code",
   "execution_count": 33,
   "metadata": {},
   "outputs": [],
   "source": [
    "trans_model = Sequential(model.layers[:6])"
   ]
  },
  {
   "cell_type": "code",
   "execution_count": 34,
   "metadata": {},
   "outputs": [
    {
     "name": "stdout",
     "output_type": "stream",
     "text": [
      "_________________________________________________________________\n",
      "Layer (type)                 Output Shape              Param #   \n",
      "=================================================================\n",
      "conv2d_14 (Conv2D)           (None, 24, 24, 32)        832       \n",
      "_________________________________________________________________\n",
      "conv2d_15 (Conv2D)           (None, 20, 20, 16)        12816     \n",
      "_________________________________________________________________\n",
      "max_pooling2d_5 (MaxPooling2 (None, 10, 10, 16)        0         \n",
      "_________________________________________________________________\n",
      "conv2d_16 (Conv2D)           (None, 8, 8, 8)           1160      \n",
      "_________________________________________________________________\n",
      "flatten_5 (Flatten)          (None, 512)               0         \n",
      "_________________________________________________________________\n",
      "dropout_5 (Dropout)          (None, 512)               0         \n",
      "_________________________________________________________________\n",
      "dense_9 (Dense)              (None, 128)               65664     \n",
      "_________________________________________________________________\n",
      "activation_7 (Activation)    (None, 128)               0         \n",
      "_________________________________________________________________\n",
      "dense_10 (Dense)             (None, 10)                1290      \n",
      "_________________________________________________________________\n",
      "activation_8 (Activation)    (None, 10)                0         \n",
      "=================================================================\n",
      "Total params: 81,762\n",
      "Trainable params: 66,954\n",
      "Non-trainable params: 14,808\n",
      "_________________________________________________________________\n"
     ]
    }
   ],
   "source": [
    "trans_model.add(Dense(128))\n",
    "trans_model.add(Activation('relu'))\n",
    "trans_model.add(Dense(10))\n",
    "trans_model.add(Activation('softmax'))\n",
    "trans_model.summary()"
   ]
  },
  {
   "cell_type": "code",
   "execution_count": 35,
   "metadata": {},
   "outputs": [],
   "source": [
    "trans_model.compile(loss='categorical_crossentropy',\n",
    "                   optimizer='adam',\n",
    "                   metrics=['accuracy'])"
   ]
  },
  {
   "cell_type": "code",
   "execution_count": 37,
   "metadata": {},
   "outputs": [
    {
     "name": "stdout",
     "output_type": "stream",
     "text": [
      "Train on 9775 samples, validate on 4861 samples\n",
      "Epoch 1/5\n",
      " - 5s - loss: 0.3253 - acc: 0.8927 - val_loss: 0.0923 - val_acc: 0.9745\n",
      "Epoch 2/5\n",
      " - 4s - loss: 0.1063 - acc: 0.9678 - val_loss: 0.0671 - val_acc: 0.9776\n",
      "Epoch 3/5\n",
      " - 4s - loss: 0.0894 - acc: 0.9703 - val_loss: 0.0526 - val_acc: 0.9829\n",
      "Epoch 4/5\n",
      " - 4s - loss: 0.0726 - acc: 0.9773 - val_loss: 0.0424 - val_acc: 0.9852\n",
      "Epoch 5/5\n",
      " - 4s - loss: 0.0665 - acc: 0.9784 - val_loss: 0.0453 - val_acc: 0.9840\n",
      "\n",
      " 0:00:22.850244\n"
     ]
    }
   ],
   "source": [
    "start=datetime.datetime.now()\n",
    "\n",
    "trans_model.fit(X_train_fivetonine, Y_train_fivetonine,\n",
    "         epochs=5,batch_size=100,shuffle=True,verbose=2,\n",
    "         validation_data=(X_test_fivetonine, Y_test_fivetonine))\n",
    "\n",
    "end=datetime.datetime.now()\n",
    "print('\\n',end-start)"
   ]
  },
  {
   "cell_type": "code",
   "execution_count": 58,
   "metadata": {},
   "outputs": [
    {
     "name": "stdout",
     "output_type": "stream",
     "text": [
      "Here is the data set example:\n"
     ]
    },
    {
     "data": {
      "image/png": "[encoded data removed]",
      "text/plain": [
       "<Figure size 432x288 with 3 Axes>"
      ]
     },
     "metadata": {
      "needs_background": "light"
     },
     "output_type": "display_data"
    }
   ],
   "source": [
    "print('Here is the data set example:')\n",
    "for i in range(1,4):\n",
    "    ax = plt.subplot(1,3,i)\n",
    "    plt.imshow(x_train_fivetonine[i].reshape(28,28))\n",
    "    plt.gray()\n",
    "plt.show()"
   ]
  },
  {
   "cell_type": "code",
   "execution_count": 57,
   "metadata": {},
   "outputs": [
    {
     "name": "stdout",
     "output_type": "stream",
     "text": [
      "Here are my predictions:\n"
     ]
    },
    {
     "data": {
      "text/plain": [
       "[9, 5, 6]"
      ]
     },
     "execution_count": 57,
     "metadata": {},
     "output_type": "execute_result"
    }
   ],
   "source": [
    "print('Here are my predictions:')\n",
    "y_train_fivetonine[1:4]"
   ]
  },
  {
   "cell_type": "code",
   "execution_count": null,
   "metadata": {},
   "outputs": [],
   "source": []
  },
  {
   "cell_type": "code",
   "execution_count": null,
   "metadata": {},
   "outputs": [],
   "source": []
  },
  {
   "cell_type": "code",
   "execution_count": null,
   "metadata": {},
   "outputs": [],
   "source": []
  }
 ],
 "metadata": {
  "kernelspec": {
   "display_name": "Python 3",
   "language": "python",
   "name": "python3"
  },
  "language_info": {
   "codemirror_mode": {
    "name": "ipython",
    "version": 3
   },
   "file_extension": ".py",
   "mimetype": "text/x-python",
   "name": "python",
   "nbconvert_exporter": "python",
   "pygments_lexer": "ipython3",
   "version": "3.7.3"
  }
 },
 "nbformat": 4,
 "nbformat_minor": 2
}
