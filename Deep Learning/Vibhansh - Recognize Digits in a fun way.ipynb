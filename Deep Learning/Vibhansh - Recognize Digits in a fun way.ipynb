{
 "cells": [
  {
   "cell_type": "code",
   "execution_count": 1,
   "metadata": {},
   "outputs": [
    {
     "ename": "ModuleNotFoundError",
     "evalue": "No module named 'sklearn'",
     "output_type": "error",
     "traceback": [
      "\u001b[0;31m---------------------------------------------------------------------------\u001b[0m",
      "\u001b[0;31mModuleNotFoundError\u001b[0m                       Traceback (most recent call last)",
      "\u001b[0;32m<ipython-input-1-10a98910271a>\u001b[0m in \u001b[0;36m<module>\u001b[0;34m\u001b[0m\n\u001b[1;32m      2\u001b[0m \u001b[0;32mimport\u001b[0m \u001b[0mpandas\u001b[0m \u001b[0;32mas\u001b[0m \u001b[0mpd\u001b[0m\u001b[0;34m\u001b[0m\u001b[0;34m\u001b[0m\u001b[0m\n\u001b[1;32m      3\u001b[0m \u001b[0;32mimport\u001b[0m \u001b[0mmatplotlib\u001b[0m\u001b[0;34m.\u001b[0m\u001b[0mpyplot\u001b[0m \u001b[0;32mas\u001b[0m \u001b[0mplt\u001b[0m\u001b[0;34m\u001b[0m\u001b[0;34m\u001b[0m\u001b[0m\n\u001b[0;32m----> 4\u001b[0;31m \u001b[0;32mimport\u001b[0m \u001b[0msklearn\u001b[0m\u001b[0;34m\u001b[0m\u001b[0;34m\u001b[0m\u001b[0m\n\u001b[0m\u001b[1;32m      5\u001b[0m \u001b[0;34m\u001b[0m\u001b[0m\n\u001b[1;32m      6\u001b[0m \u001b[0;32mfrom\u001b[0m \u001b[0msklearn\u001b[0m\u001b[0;34m.\u001b[0m\u001b[0mdatasets\u001b[0m \u001b[0;32mimport\u001b[0m \u001b[0mload_digits\u001b[0m \u001b[0;31m#We already have data and labels\u001b[0m\u001b[0;34m\u001b[0m\u001b[0;34m\u001b[0m\u001b[0m\n",
      "\u001b[0;31mModuleNotFoundError\u001b[0m: No module named 'sklearn'"
     ]
    }
   ],
   "source": [
    "import numpy as np\n",
    "import pandas as pd\n",
    "import matplotlib.pyplot as plt\n",
    "import sklearn\n",
    "\n",
    "from sklearn.datasets import load_digits #We already have data and labels\n",
    "dataset = load_digits()\n",
    "from sklearn.model_selection import train_test_split \n",
    "\n",
    "def distance(a,b): #L1 Manhattan distance\n",
    "    l1=np.sum(abs(a-b))\n",
    "    return l1\n",
    "\n",
    "def knn(x_train,y_train,test_point,k):\n",
    "    vals=[]\n",
    "    for i in range(x_train.shape[0]): #Tuple has dimension 1797,64 \n",
    "        d=distance(x_train[i],test_point)\n",
    "        vals.append([d, y_train[i]])\n",
    "        \n",
    "    sorted_labels=sorted(vals,key=lambda vals:vals[0])\n",
    "    neighbors= np.asarray(sorted_labels)[:k,-1] # np.asarray saves memory by not duplicating\n",
    "    freq = np.unique(neighbors, return_counts=True) #prints unique value but return_counts helps to count \n",
    "    index = freq[1].argmax()  #returns the index of where the most no. of times a nearby value occurs\n",
    "    return freq[0][index] \n",
    "\n",
    "j=int(input(\"Enter number whose image I'll vary for testing\\n\"))\n",
    "if j<0 or j>9:\n",
    "    print(\"\\n\\tOnly 0-9 ! \\nDON'T TRY TO BE OVERSMART\")\n",
    "    exit()\n",
    "x_train=dataset['data']\n",
    "y_train=dataset['target']\n",
    "for i in range(3):\n",
    "    dataset['data'][j][i]=0 #Remove 3 values out of 64 of the elements for testing purposes\n",
    "plt.imshow(dataset['images'][j])\n",
    "print(\"\\nNow, let's move towards the testing: \\n\")\n",
    "test_point=dataset['data'][j]\n",
    "\n",
    "answer = knn(x_train,y_train,test_point,9)\n",
    "print(\"\\nThe given image data seems to me as it was of the number \",int(answer),\"\\n\")\n",
    "user=input(\"Was I correct? \")\n",
    "if user.lower() == \"yes\":\n",
    "    print(\"\\nHurray, A.I rocks !\\nAfter all, robots 'ARE' better than humans of course.\")\n",
    "elif user.lower() == \"no\":\n",
    "    print(\"\\nAww. But, I mean, weren't YOU the one who wrote the code?\\nSo,'YOU' are at fault here!\")\n",
    "else:\n",
    "    print(\"\\nWhat are you writing, mate?!\\nGo learn English before you decide to come back!\")\n",
    "print(\"\\nBTW The image used was this one: \\t\")"
   ]
  },
  {
   "cell_type": "code",
   "execution_count": null,
   "metadata": {},
   "outputs": [],
   "source": [
    "#Designed from scratch by Lord_V"
   ]
  },
  {
   "cell_type": "code",
   "execution_count": null,
   "metadata": {},
   "outputs": [],
   "source": [
    "print(\"Hi Archit 🤮\")"
   ]
  },
  {
   "cell_type": "code",
   "execution_count": 2,
   "metadata": {},
   "outputs": [
    {
     "name": "stdout",
     "output_type": "stream",
     "text": [
      "Collecting sklearn\n",
      "  Using cached https://files.pythonhosted.org/packages/1e/7a/dbb3be0ce9bd5c8b7e3d87328e79063f8b263b2b1bfa4774cb1147bfcd3f/sklearn-0.0.tar.gz\n",
      "Collecting scikit-learn\n",
      "  Using cached https://files.pythonhosted.org/packages/1e/ce/9d8c88e68af0a5b5c5d78d8d2b7bcadfd45e1d6afc863ccb9aee30765b06/scikit-learn-0.21.3.tar.gz\n",
      "Requirement already satisfied: numpy>=1.11.0 in /Library/Frameworks/Python.framework/Versions/3.8/lib/python3.8/site-packages (from scikit-learn->sklearn) (1.17.3)\n",
      "Requirement already satisfied: scipy>=0.17.0 in /Library/Frameworks/Python.framework/Versions/3.8/lib/python3.8/site-packages (from scikit-learn->sklearn) (1.3.2)\n",
      "Requirement already satisfied: joblib>=0.11 in /Library/Frameworks/Python.framework/Versions/3.8/lib/python3.8/site-packages (from scikit-learn->sklearn) (0.14.0)\n",
      "Installing collected packages: scikit-learn, sklearn\n",
      "    Running setup.py install for scikit-learn ... \u001b[?25lerror\n",
      "\u001b[31m    ERROR: Command errored out with exit status 1:\n",
      "     command: /Library/Frameworks/Python.framework/Versions/3.8/bin/python3 -u -c 'import sys, setuptools, tokenize; sys.argv[0] = '\"'\"'/private/var/folders/jl/50rq__r9155658gq3sr55qcr0000gn/T/pip-install-bdaqauc2/scikit-learn/setup.py'\"'\"'; __file__='\"'\"'/private/var/folders/jl/50rq__r9155658gq3sr55qcr0000gn/T/pip-install-bdaqauc2/scikit-learn/setup.py'\"'\"';f=getattr(tokenize, '\"'\"'open'\"'\"', open)(__file__);code=f.read().replace('\"'\"'\\r\\n'\"'\"', '\"'\"'\\n'\"'\"');f.close();exec(compile(code, __file__, '\"'\"'exec'\"'\"'))' install --record /private/var/folders/jl/50rq__r9155658gq3sr55qcr0000gn/T/pip-record-60rs7l4b/install-record.txt --single-version-externally-managed --compile\n",
      "         cwd: /private/var/folders/jl/50rq__r9155658gq3sr55qcr0000gn/T/pip-install-bdaqauc2/scikit-learn/\n",
      "    Complete output (28 lines):\n",
      "    Partial import of sklearn during the build process.\n",
      "    Traceback (most recent call last):\n",
      "      File \"<string>\", line 1, in <module>\n",
      "      File \"/private/var/folders/jl/50rq__r9155658gq3sr55qcr0000gn/T/pip-install-bdaqauc2/scikit-learn/setup.py\", line 290, in <module>\n",
      "        setup_package()\n",
      "      File \"/private/var/folders/jl/50rq__r9155658gq3sr55qcr0000gn/T/pip-install-bdaqauc2/scikit-learn/setup.py\", line 286, in setup_package\n",
      "        setup(**metadata)\n",
      "      File \"/Library/Frameworks/Python.framework/Versions/3.8/lib/python3.8/site-packages/numpy/distutils/core.py\", line 137, in setup\n",
      "        config = configuration()\n",
      "      File \"/private/var/folders/jl/50rq__r9155658gq3sr55qcr0000gn/T/pip-install-bdaqauc2/scikit-learn/setup.py\", line 174, in configuration\n",
      "        config.add_subpackage('sklearn')\n",
      "      File \"/Library/Frameworks/Python.framework/Versions/3.8/lib/python3.8/site-packages/numpy/distutils/misc_util.py\", line 1033, in add_subpackage\n",
      "        config_list = self.get_subpackage(subpackage_name, subpackage_path,\n",
      "      File \"/Library/Frameworks/Python.framework/Versions/3.8/lib/python3.8/site-packages/numpy/distutils/misc_util.py\", line 999, in get_subpackage\n",
      "        config = self._get_configuration_from_setup_py(\n",
      "      File \"/Library/Frameworks/Python.framework/Versions/3.8/lib/python3.8/site-packages/numpy/distutils/misc_util.py\", line 941, in _get_configuration_from_setup_py\n",
      "        config = setup_module.configuration(*args)\n",
      "      File \"sklearn/setup.py\", line 62, in configuration\n",
      "        config.add_subpackage('utils')\n",
      "      File \"/Library/Frameworks/Python.framework/Versions/3.8/lib/python3.8/site-packages/numpy/distutils/misc_util.py\", line 1033, in add_subpackage\n",
      "        config_list = self.get_subpackage(subpackage_name, subpackage_path,\n",
      "      File \"/Library/Frameworks/Python.framework/Versions/3.8/lib/python3.8/site-packages/numpy/distutils/misc_util.py\", line 999, in get_subpackage\n",
      "        config = self._get_configuration_from_setup_py(\n",
      "      File \"/Library/Frameworks/Python.framework/Versions/3.8/lib/python3.8/site-packages/numpy/distutils/misc_util.py\", line 941, in _get_configuration_from_setup_py\n",
      "        config = setup_module.configuration(*args)\n",
      "      File \"sklearn/utils/setup.py\", line 8, in configuration\n",
      "        from Cython import Tempita\n",
      "    ModuleNotFoundError: No module named 'Cython'\n",
      "    ----------------------------------------\u001b[0m\n",
      "\u001b[31mERROR: Command errored out with exit status 1: /Library/Frameworks/Python.framework/Versions/3.8/bin/python3 -u -c 'import sys, setuptools, tokenize; sys.argv[0] = '\"'\"'/private/var/folders/jl/50rq__r9155658gq3sr55qcr0000gn/T/pip-install-bdaqauc2/scikit-learn/setup.py'\"'\"'; __file__='\"'\"'/private/var/folders/jl/50rq__r9155658gq3sr55qcr0000gn/T/pip-install-bdaqauc2/scikit-learn/setup.py'\"'\"';f=getattr(tokenize, '\"'\"'open'\"'\"', open)(__file__);code=f.read().replace('\"'\"'\\r\\n'\"'\"', '\"'\"'\\n'\"'\"');f.close();exec(compile(code, __file__, '\"'\"'exec'\"'\"'))' install --record /private/var/folders/jl/50rq__r9155658gq3sr55qcr0000gn/T/pip-record-60rs7l4b/install-record.txt --single-version-externally-managed --compile Check the logs for full command output.\u001b[0m\n",
      "\u001b[?25hNote: you may need to restart the kernel to use updated packages.\n"
     ]
    }
   ],
   "source": [
    "pip install sklearn"
   ]
  },
  {
   "cell_type": "code",
   "execution_count": 4,
   "metadata": {},
   "outputs": [
    {
     "name": "stdout",
     "output_type": "stream",
     "text": [
      "Collecting scikit-learn\n",
      "  Using cached https://files.pythonhosted.org/packages/1e/ce/9d8c88e68af0a5b5c5d78d8d2b7bcadfd45e1d6afc863ccb9aee30765b06/scikit-learn-0.21.3.tar.gz\n",
      "Requirement already up-to-date: scipy in /Library/Frameworks/Python.framework/Versions/3.8/lib/python3.8/site-packages (1.3.2)\n",
      "Requirement already up-to-date: matplotlib in /Library/Frameworks/Python.framework/Versions/3.8/lib/python3.8/site-packages (3.1.2)\n",
      "Requirement already satisfied, skipping upgrade: numpy>=1.11.0 in /Library/Frameworks/Python.framework/Versions/3.8/lib/python3.8/site-packages (from scikit-learn) (1.17.3)\n",
      "Requirement already satisfied, skipping upgrade: joblib>=0.11 in /Library/Frameworks/Python.framework/Versions/3.8/lib/python3.8/site-packages (from scikit-learn) (0.14.0)\n",
      "Requirement already satisfied, skipping upgrade: kiwisolver>=1.0.1 in /Library/Frameworks/Python.framework/Versions/3.8/lib/python3.8/site-packages (from matplotlib) (1.1.0)\n",
      "Requirement already satisfied, skipping upgrade: cycler>=0.10 in /Library/Frameworks/Python.framework/Versions/3.8/lib/python3.8/site-packages (from matplotlib) (0.10.0)\n",
      "Requirement already satisfied, skipping upgrade: pyparsing!=2.0.4,!=2.1.2,!=2.1.6,>=2.0.1 in /Library/Frameworks/Python.framework/Versions/3.8/lib/python3.8/site-packages (from matplotlib) (2.4.4)\n",
      "Requirement already satisfied, skipping upgrade: python-dateutil>=2.1 in /Library/Frameworks/Python.framework/Versions/3.8/lib/python3.8/site-packages (from matplotlib) (2.8.1)\n",
      "Requirement already satisfied, skipping upgrade: setuptools in /Library/Frameworks/Python.framework/Versions/3.8/lib/python3.8/site-packages (from kiwisolver>=1.0.1->matplotlib) (41.2.0)\n",
      "Requirement already satisfied, skipping upgrade: six in /Library/Frameworks/Python.framework/Versions/3.8/lib/python3.8/site-packages (from cycler>=0.10->matplotlib) (1.13.0)\n",
      "Installing collected packages: scikit-learn\n",
      "    Running setup.py install for scikit-learn ... \u001b[?25lerror\n",
      "\u001b[31m    ERROR: Command errored out with exit status 1:\n",
      "     command: /Library/Frameworks/Python.framework/Versions/3.8/bin/python3 -u -c 'import sys, setuptools, tokenize; sys.argv[0] = '\"'\"'/private/var/folders/jl/50rq__r9155658gq3sr55qcr0000gn/T/pip-install-o9w4u6oo/scikit-learn/setup.py'\"'\"'; __file__='\"'\"'/private/var/folders/jl/50rq__r9155658gq3sr55qcr0000gn/T/pip-install-o9w4u6oo/scikit-learn/setup.py'\"'\"';f=getattr(tokenize, '\"'\"'open'\"'\"', open)(__file__);code=f.read().replace('\"'\"'\\r\\n'\"'\"', '\"'\"'\\n'\"'\"');f.close();exec(compile(code, __file__, '\"'\"'exec'\"'\"'))' install --record /private/var/folders/jl/50rq__r9155658gq3sr55qcr0000gn/T/pip-record-1azktpv9/install-record.txt --single-version-externally-managed --compile\n",
      "         cwd: /private/var/folders/jl/50rq__r9155658gq3sr55qcr0000gn/T/pip-install-o9w4u6oo/scikit-learn/\n",
      "    Complete output (28 lines):\n",
      "    Partial import of sklearn during the build process.\n",
      "    Traceback (most recent call last):\n",
      "      File \"<string>\", line 1, in <module>\n",
      "      File \"/private/var/folders/jl/50rq__r9155658gq3sr55qcr0000gn/T/pip-install-o9w4u6oo/scikit-learn/setup.py\", line 290, in <module>\n",
      "        setup_package()\n",
      "      File \"/private/var/folders/jl/50rq__r9155658gq3sr55qcr0000gn/T/pip-install-o9w4u6oo/scikit-learn/setup.py\", line 286, in setup_package\n",
      "        setup(**metadata)\n",
      "      File \"/Library/Frameworks/Python.framework/Versions/3.8/lib/python3.8/site-packages/numpy/distutils/core.py\", line 137, in setup\n",
      "        config = configuration()\n",
      "      File \"/private/var/folders/jl/50rq__r9155658gq3sr55qcr0000gn/T/pip-install-o9w4u6oo/scikit-learn/setup.py\", line 174, in configuration\n",
      "        config.add_subpackage('sklearn')\n",
      "      File \"/Library/Frameworks/Python.framework/Versions/3.8/lib/python3.8/site-packages/numpy/distutils/misc_util.py\", line 1033, in add_subpackage\n",
      "        config_list = self.get_subpackage(subpackage_name, subpackage_path,\n",
      "      File \"/Library/Frameworks/Python.framework/Versions/3.8/lib/python3.8/site-packages/numpy/distutils/misc_util.py\", line 999, in get_subpackage\n",
      "        config = self._get_configuration_from_setup_py(\n",
      "      File \"/Library/Frameworks/Python.framework/Versions/3.8/lib/python3.8/site-packages/numpy/distutils/misc_util.py\", line 941, in _get_configuration_from_setup_py\n",
      "        config = setup_module.configuration(*args)\n",
      "      File \"sklearn/setup.py\", line 62, in configuration\n",
      "        config.add_subpackage('utils')\n",
      "      File \"/Library/Frameworks/Python.framework/Versions/3.8/lib/python3.8/site-packages/numpy/distutils/misc_util.py\", line 1033, in add_subpackage\n",
      "        config_list = self.get_subpackage(subpackage_name, subpackage_path,\n",
      "      File \"/Library/Frameworks/Python.framework/Versions/3.8/lib/python3.8/site-packages/numpy/distutils/misc_util.py\", line 999, in get_subpackage\n",
      "        config = self._get_configuration_from_setup_py(\n",
      "      File \"/Library/Frameworks/Python.framework/Versions/3.8/lib/python3.8/site-packages/numpy/distutils/misc_util.py\", line 941, in _get_configuration_from_setup_py\n",
      "        config = setup_module.configuration(*args)\n",
      "      File \"sklearn/utils/setup.py\", line 8, in configuration\n",
      "        from Cython import Tempita\n",
      "    ModuleNotFoundError: No module named 'Cython'\n",
      "    ----------------------------------------\u001b[0m\n",
      "\u001b[31mERROR: Command errored out with exit status 1: /Library/Frameworks/Python.framework/Versions/3.8/bin/python3 -u -c 'import sys, setuptools, tokenize; sys.argv[0] = '\"'\"'/private/var/folders/jl/50rq__r9155658gq3sr55qcr0000gn/T/pip-install-o9w4u6oo/scikit-learn/setup.py'\"'\"'; __file__='\"'\"'/private/var/folders/jl/50rq__r9155658gq3sr55qcr0000gn/T/pip-install-o9w4u6oo/scikit-learn/setup.py'\"'\"';f=getattr(tokenize, '\"'\"'open'\"'\"', open)(__file__);code=f.read().replace('\"'\"'\\r\\n'\"'\"', '\"'\"'\\n'\"'\"');f.close();exec(compile(code, __file__, '\"'\"'exec'\"'\"'))' install --record /private/var/folders/jl/50rq__r9155658gq3sr55qcr0000gn/T/pip-record-1azktpv9/install-record.txt --single-version-externally-managed --compile Check the logs for full command output.\u001b[0m\n",
      "\u001b[?25hNote: you may need to restart the kernel to use updated packages.\n"
     ]
    }
   ],
   "source": [
    "pip install -U scikit-learn scipy matplotlib"
   ]
  },
  {
   "cell_type": "code",
   "execution_count": null,
   "metadata": {},
   "outputs": [],
   "source": []
  }
 ],
 "metadata": {
  "kernelspec": {
   "display_name": "Python 3",
   "language": "python",
   "name": "python3"
  },
  "language_info": {
   "codemirror_mode": {
    "name": "ipython",
    "version": 3
   },
   "file_extension": ".py",
   "mimetype": "text/x-python",
   "name": "python",
   "nbconvert_exporter": "python",
   "pygments_lexer": "ipython3",
   "version": "3.8.0"
  }
 },
 "nbformat": 4,
 "nbformat_minor": 2
}
