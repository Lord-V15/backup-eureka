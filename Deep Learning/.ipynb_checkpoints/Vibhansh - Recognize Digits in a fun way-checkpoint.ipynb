{
 "cells": [
  {
   "cell_type": "code",
   "execution_count": 1,
   "metadata": {},
   "outputs": [
    {
     "ename": "ModuleNotFoundError",
     "evalue": "No module named 'matplotlib'",
     "output_type": "error",
     "traceback": [
      "\u001b[0;31m---------------------------------------------------------------------------\u001b[0m",
      "\u001b[0;31mModuleNotFoundError\u001b[0m                       Traceback (most recent call last)",
      "\u001b[0;32m<ipython-input-1-2baaf771b757>\u001b[0m in \u001b[0;36m<module>\u001b[0;34m\u001b[0m\n\u001b[1;32m      1\u001b[0m \u001b[0;32mimport\u001b[0m \u001b[0mnumpy\u001b[0m \u001b[0;32mas\u001b[0m \u001b[0mnp\u001b[0m\u001b[0;34m\u001b[0m\u001b[0;34m\u001b[0m\u001b[0m\n\u001b[1;32m      2\u001b[0m \u001b[0;32mimport\u001b[0m \u001b[0mpandas\u001b[0m \u001b[0;32mas\u001b[0m \u001b[0mpd\u001b[0m\u001b[0;34m\u001b[0m\u001b[0;34m\u001b[0m\u001b[0m\n\u001b[0;32m----> 3\u001b[0;31m \u001b[0;32mimport\u001b[0m \u001b[0mmatplotlib\u001b[0m\u001b[0;34m.\u001b[0m\u001b[0mpyplot\u001b[0m \u001b[0;32mas\u001b[0m \u001b[0mplt\u001b[0m\u001b[0;34m\u001b[0m\u001b[0;34m\u001b[0m\u001b[0m\n\u001b[0m\u001b[1;32m      4\u001b[0m \u001b[0mget_ipython\u001b[0m\u001b[0;34m(\u001b[0m\u001b[0;34m)\u001b[0m\u001b[0;34m.\u001b[0m\u001b[0mrun_line_magic\u001b[0m\u001b[0;34m(\u001b[0m\u001b[0;34m'matplotlib'\u001b[0m\u001b[0;34m,\u001b[0m \u001b[0;34m'inline'\u001b[0m\u001b[0;34m)\u001b[0m\u001b[0;34m\u001b[0m\u001b[0;34m\u001b[0m\u001b[0m\n\u001b[1;32m      5\u001b[0m \u001b[0;32mimport\u001b[0m \u001b[0msklearn\u001b[0m\u001b[0;34m\u001b[0m\u001b[0;34m\u001b[0m\u001b[0m\n",
      "\u001b[0;31mModuleNotFoundError\u001b[0m: No module named 'matplotlib'"
     ]
    }
   ],
   "source": [
    "import numpy as np\n",
    "import pandas as pd\n",
    "import matplotlib.pyplot as plt\n",
    "%matplotlib inline\n",
    "import sklearn\n",
    "\n",
    "from sklearn.datasets import load_digits #We already have data and labels\n",
    "dataset = load_digits()\n",
    "from sklearn.model_selection import train_test_split \n",
    "\n",
    "def distance(a,b): #L1 Manhattan distance\n",
    "    l1=np.sum(abs(a-b))\n",
    "    return l1\n",
    "\n",
    "def knn(x_train,y_train,test_point,k):\n",
    "    vals=[]\n",
    "    for i in range(x_train.shape[0]): #Tuple has dimension 1797,64 \n",
    "        d=distance(x_train[i],test_point)\n",
    "        vals.append([d, y_train[i]])\n",
    "        \n",
    "    sorted_labels=sorted(vals,key=lambda vals:vals[0])\n",
    "    neighbors= np.asarray(sorted_labels)[:k,-1] # np.asarray saves memory by not duplicating\n",
    "    freq = np.unique(neighbors, return_counts=True) #prints unique value but return_counts helps to count \n",
    "    index = freq[1].argmax()  #returns the index of where the most no. of times a nearby value occurs\n",
    "    return freq[0][index] \n",
    "\n",
    "j=int(input(\"Enter number whose image I'll vary for testing\\n\"))\n",
    "if j<0 or j>9:\n",
    "    print(\"\\n\\tOnly 0-9 ! \\nDON'T TRY TO BE OVERSMART\")\n",
    "    exit()\n",
    "x_train=dataset['data']\n",
    "y_train=dataset['target']\n",
    "for i in range(3):\n",
    "    dataset['data'][j][i]=0 #Remove 3 values out of 64 of the elements for testing purposes\n",
    "plt.imshow(dataset['images'][j])\n",
    "print(\"\\nNow, let's move towards the testing: \\n\")\n",
    "test_point=dataset['data'][j]\n",
    "\n",
    "answer = knn(x_train,y_train,test_point,9)\n",
    "print(\"\\nThe given image data seems to me as it was of the number \",int(answer),\"\\n\")\n",
    "user=input(\"Was I correct? \")\n",
    "if user.lower() == \"yes\":\n",
    "    print(\"\\nHurray, A.I rocks !\\nAfter all, robots 'ARE' better than humans of course.\")\n",
    "elif user.lower() == \"no\":\n",
    "    print(\"\\nAww. But, I mean, weren't YOU the one who wrote the code?\\nSo,'YOU' are at fault here!\")\n",
    "else:\n",
    "    print(\"\\nWhat are you writing, mate?!\\nGo learn English before you decide to come back!\")\n",
    "print(\"\\nBTW The image used was this one: \\t\")"
   ]
  },
  {
   "cell_type": "code",
   "execution_count": 1,
   "metadata": {},
   "outputs": [],
   "source": [
    "#Designed from scratch by Lord_V"
   ]
  },
  {
   "cell_type": "code",
   "execution_count": null,
   "metadata": {},
   "outputs": [],
   "source": []
  }
 ],
 "metadata": {
  "kernelspec": {
   "display_name": "Python 3",
   "language": "python",
   "name": "python3"
  },
  "language_info": {
   "codemirror_mode": {
    "name": "ipython",
    "version": 3
   },
   "file_extension": ".py",
   "mimetype": "text/x-python",
   "name": "python",
   "nbconvert_exporter": "python",
   "pygments_lexer": "ipython3",
   "version": "3.8.0"
  }
 },
 "nbformat": 4,
 "nbformat_minor": 2
}
