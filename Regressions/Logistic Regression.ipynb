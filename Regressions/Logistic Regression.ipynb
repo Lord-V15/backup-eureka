{
 "cells": [
  {
   "cell_type": "code",
   "execution_count": 1,
   "metadata": {},
   "outputs": [],
   "source": [
    "# THIS IS ACTUALLY A CLASSIFICATION"
   ]
  },
  {
   "cell_type": "code",
   "execution_count": 2,
   "metadata": {},
   "outputs": [],
   "source": [
    "import math\n",
    "import numpy as np\n",
    "import pandas as pd\n",
    "import matplotlib.pyplot as plt\n",
    "%matplotlib inline"
   ]
  },
  {
   "cell_type": "code",
   "execution_count": 3,
   "metadata": {},
   "outputs": [],
   "source": [
    "def g(z):\n",
    "    return 1/(1+(np.exp(-1*z))) #Sigmoid"
   ]
  },
  {
   "cell_type": "code",
   "execution_count": 4,
   "metadata": {},
   "outputs": [
    {
     "data": {
      "text/plain": [
       "0.7109495026250039"
      ]
     },
     "execution_count": 4,
     "metadata": {},
     "output_type": "execute_result"
    }
   ],
   "source": [
    "g(0.9)"
   ]
  },
  {
   "cell_type": "code",
   "execution_count": 5,
   "metadata": {},
   "outputs": [
    {
     "name": "stdout",
     "output_type": "stream",
     "text": [
      "(500, 2) (500, 2)\n"
     ]
    }
   ],
   "source": [
    "m1,cov1=np.array([1,5]), np.array([[1,0.1],[0.1,1]])\n",
    "m2,cov2=np.array([4.5,2]), np.array([[1,0.1],[0.1,1.2]])\n",
    "\n",
    "dist1=np.random.multivariate_normal(m1,cov1,500)\n",
    "dist2=np.random.multivariate_normal(m2,cov2,500)\n",
    "\n",
    "print(dist1.shape,dist2.shape)"
   ]
  },
  {
   "cell_type": "code",
   "execution_count": 6,
   "metadata": {},
   "outputs": [
    {
     "data": {
      "image/png": "[encoded data removed]",
      "text/plain": [
       "<Figure size 432x288 with 1 Axes>"
      ]
     },
     "metadata": {
      "needs_background": "light"
     },
     "output_type": "display_data"
    }
   ],
   "source": [
    "plt.scatter(dist1[:,0], dist1[:,1])\n",
    "plt.scatter(dist2[:,0],dist2[:,1])\n",
    "plt.show()"
   ]
  },
  {
   "cell_type": "code",
   "execution_count": 7,
   "metadata": {},
   "outputs": [
    {
     "name": "stdout",
     "output_type": "stream",
     "text": [
      "(1000, 3)\n"
     ]
    }
   ],
   "source": [
    "data=np.zeros((1000,3))\n",
    "data[:500,:2] = dist1\n",
    "data[500:,:2] = dist2\n",
    "data[500:,-1] = 1\n",
    "print(data.shape)"
   ]
  },
  {
   "cell_type": "code",
   "execution_count": 8,
   "metadata": {},
   "outputs": [],
   "source": [
    "np.random.shuffle(data)\n",
    "\n",
    "split=int(0.7*1000)\n",
    "\n",
    "X_train=data[:split,:2]\n",
    "X_test=data[split:,:2]\n",
    "y_train=data[:split,-1]\n",
    "y_test=data[split:,-1]"
   ]
  },
  {
   "cell_type": "code",
   "execution_count": 9,
   "metadata": {},
   "outputs": [],
   "source": [
    "def h(X,Theta,c): #c is theta0, i.e- the bias\n",
    "    h = (X*Theta).sum() + c\n",
    "    return g(h)\n"
   ]
  },
  {
   "cell_type": "code",
   "execution_count": 10,
   "metadata": {},
   "outputs": [],
   "source": [
    "def log_likelihood(X,W,c,y_true): #Binary Cross-Entropy\n",
    "    total=0.0\n",
    "    m=X.shape[0]\n",
    "    for i in range(m):\n",
    "        if y_true[i]==0:\n",
    "            total += np.log(1-h(X[i],W,c)) #For classification 0\n",
    "        else:\n",
    "            total += np.log(h(X[i],W,c)) #For classification 1\n",
    "    total/=m\n",
    "    return total"
   ]
  },
  {
   "cell_type": "code",
   "execution_count": 11,
   "metadata": {},
   "outputs": [],
   "source": [
    "def gradient_ascent(X,W,c,y_true,learning_rate=0.1):\n",
    "    grad_W=np.zeros((W.shape[0]))\n",
    "    grad_c=0.0\n",
    "    \n",
    "    m=X.shape[0]\n",
    "    for i in range(m):\n",
    "        grad_W += (y_true[i]-h(X[i],W,c)) * X[i]\n",
    "        grad_c += (y_true[i]-h(X[i],W,c)) * 1\n",
    "    grad_W /= m\n",
    "    grad_c /= m\n",
    "    \n",
    "    W += learning_rate * grad_W\n",
    "    c += learning_rate * grad_c\n",
    "    \n",
    "    l = log_likelihood(X,W,c,y_true)\n",
    "    return W,c,l"
   ]
  },
  {
   "cell_type": "code",
   "execution_count": 12,
   "metadata": {},
   "outputs": [
    {
     "name": "stdout",
     "output_type": "stream",
     "text": [
      "4.1993903000114265\n",
      "[ 1.26849521 -2.13606589]\n",
      "-0.04435348714751272\n"
     ]
    }
   ],
   "source": [
    "W=np.array([0.5,0.5])\n",
    "bias=4.2\n",
    "log_like=[]\n",
    "for i in range(200):\n",
    "    W,c,l = gradient_ascent(X_train,W,bias,y_train)\n",
    "    log_like.append(l)\n",
    "print(c)\n",
    "print(W)\n",
    "print(log_like[-1])"
   ]
  },
  {
   "cell_type": "code",
   "execution_count": 13,
   "metadata": {},
   "outputs": [
    {
     "data": {
      "image/png": "[encoded data removed]",
      "text/plain": [
       "<Figure size 432x288 with 1 Axes>"
      ]
     },
     "metadata": {
      "needs_background": "light"
     },
     "output_type": "display_data"
    }
   ],
   "source": [
    "plt.plot(log_like)\n",
    "plt.show()"
   ]
  },
  {
   "cell_type": "code",
   "execution_count": 14,
   "metadata": {},
   "outputs": [],
   "source": [
    "def predict(x_sample,W,c):\n",
    "    confidence = h(x_sample,W,c)\n",
    "    if(confidence>0.5):\n",
    "        return 1\n",
    "    else:\n",
    "        return 0"
   ]
  },
  {
   "cell_type": "code",
   "execution_count": 15,
   "metadata": {},
   "outputs": [],
   "source": [
    "def score(X_test, y_test, W,c):\n",
    "    predictions=[]\n",
    "    m=X_test.shape[0]\n",
    "    for i in range(m):\n",
    "        p=predict(X_test[i],W,c)\n",
    "        predictions.append(p)\n",
    "    predictions = np.asarray(predictions)\n",
    "    return 100 * (predictions==y_test).sum() / m"
   ]
  },
  {
   "cell_type": "code",
   "execution_count": 16,
   "metadata": {},
   "outputs": [
    {
     "data": {
      "text/plain": [
       "99.0"
      ]
     },
     "execution_count": 16,
     "metadata": {},
     "output_type": "execute_result"
    }
   ],
   "source": [
    "score(X_test, y_test, W,c)"
   ]
  },
  {
   "cell_type": "code",
   "execution_count": 22,
   "metadata": {},
   "outputs": [
    {
     "data": {
      "image/png": "[encoded data removed]",
      "text/plain": [
       "<Figure size 432x288 with 1 Axes>"
      ]
     },
     "metadata": {
      "needs_background": "light"
     },
     "output_type": "display_data"
    }
   ],
   "source": [
    "plt.scatter(dist1[:,0], dist1[:,1],color='black')\n",
    "plt.scatter(dist2[:,0],dist2[:,1],color='r')\n",
    "m=X_test.shape[0]\n",
    "for i in range(m):\n",
    "    p=predict(X_test[i],W,c)\n",
    "    if p==1:\n",
    "        plt.plot(X_test[i][0],X_test[i][1],'b.')\n",
    "    else:\n",
    "        plt.plot(X_test[i][0],X_test[i][1],'g.')\n",
    "plt.show()"
   ]
  },
  {
   "cell_type": "code",
   "execution_count": null,
   "metadata": {},
   "outputs": [],
   "source": []
  },
  {
   "cell_type": "code",
   "execution_count": null,
   "metadata": {},
   "outputs": [],
   "source": []
  },
  {
   "cell_type": "code",
   "execution_count": null,
   "metadata": {},
   "outputs": [],
   "source": []
  },
  {
   "cell_type": "code",
   "execution_count": null,
   "metadata": {},
   "outputs": [],
   "source": []
  },
  {
   "cell_type": "code",
   "execution_count": null,
   "metadata": {},
   "outputs": [],
   "source": []
  }
 ],
 "metadata": {
  "kernelspec": {
   "display_name": "Python 3",
   "language": "python",
   "name": "python3"
  },
  "language_info": {
   "codemirror_mode": {
    "name": "ipython",
    "version": 3
   },
   "file_extension": ".py",
   "mimetype": "text/x-python",
   "name": "python",
   "nbconvert_exporter": "python",
   "pygments_lexer": "ipython3",
   "version": "3.7.3"
  }
 },
 "nbformat": 4,
 "nbformat_minor": 2
}
