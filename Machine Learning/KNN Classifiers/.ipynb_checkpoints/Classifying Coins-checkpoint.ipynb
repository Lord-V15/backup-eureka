{
 "cells": [
  {
   "cell_type": "code",
   "execution_count": 1,
   "metadata": {},
   "outputs": [],
   "source": [
    "#Instance vs Parameter-based"
   ]
  },
  {
   "cell_type": "code",
   "execution_count": 2,
   "metadata": {},
   "outputs": [],
   "source": [
    "#KNN is instance-based\n",
    "import numpy as np"
   ]
  },
  {
   "cell_type": "code",
   "execution_count": 3,
   "metadata": {},
   "outputs": [
    {
     "data": {
      "text/plain": [
       "'\\n#Euclidean (L2)\\n#(x1,y1),(x2,y2)\\na=[1,2,3]\\nb=[4,5,6]\\na=np.array(a)\\nb=np.array(b)\\nl2=np.sum((b-a)**2)**0.5\\nprint(\"L2 dist is:\")\\nprint(l2)\\n#Manhattan (L1)\\nprint(\"L1 dist is:\")\\nl1=np.sum(abs(a-b))\\nprint(l1)\\n'"
      ]
     },
     "execution_count": 3,
     "metadata": {},
     "output_type": "execute_result"
    }
   ],
   "source": [
    "'''\n",
    "#Euclidean (L2)\n",
    "#(x1,y1),(x2,y2)\n",
    "a=[1,2,3]\n",
    "b=[4,5,6]\n",
    "a=np.array(a)\n",
    "b=np.array(b)\n",
    "l2=np.sum((b-a)**2)**0.5\n",
    "print(\"L2 dist is:\")\n",
    "print(l2)\n",
    "#Manhattan (L1)\n",
    "print(\"L1 dist is:\")\n",
    "l1=np.sum(abs(a-b))\n",
    "print(l1)\n",
    "'''"
   ]
  },
  {
   "cell_type": "code",
   "execution_count": 4,
   "metadata": {},
   "outputs": [],
   "source": [
    "import matplotlib.pyplot as plt\n",
    "%matplotlib inline"
   ]
  },
  {
   "cell_type": "code",
   "execution_count": 5,
   "metadata": {
    "scrolled": true
   },
   "outputs": [
    {
     "data": {
      "image/png": "[encoded data removed]",
      "text/plain": [
       "<Figure size 432x288 with 1 Axes>"
      ]
     },
     "metadata": {
      "needs_background": "light"
     },
     "output_type": "display_data"
    }
   ],
   "source": [
    "mean1=np.array([5,4]) #mean\n",
    "cov1=np.array([[1,0.1],[0.1,1.2]]) #covariance\n",
    "dist1=np.random.multivariate_normal(mean1,cov1,500)\n",
    "mean2=np.array([9,7]) #mean\n",
    "cov2=np.array([[1,0.1],[0.1,1.2]]) #covariance\n",
    "dist2=np.random.multivariate_normal(mean2,cov2,500)\n",
    "plt.scatter(dist1[:,0],dist1[:,1],label='Rs.5 coin')\n",
    "plt.scatter(dist2[:,0],dist2[:,1],label='Rs.10 coin')\n",
    "plt.xlabel('Radius')\n",
    "plt.ylabel('Weight')\n",
    "plt.legend()\n",
    "plt.xlim(0,13)\n",
    "plt.ylim(0,12)\n",
    "plt.show()"
   ]
  },
  {
   "cell_type": "code",
   "execution_count": 6,
   "metadata": {},
   "outputs": [
    {
     "name": "stdout",
     "output_type": "stream",
     "text": [
      "(1000, 3)\n"
     ]
    },
    {
     "data": {
      "text/plain": [
       "array([6.95653281, 5.52312645, 0.5       ])"
      ]
     },
     "execution_count": 6,
     "metadata": {},
     "output_type": "execute_result"
    }
   ],
   "source": [
    "data=np.zeros((1000,3))\n",
    "data[:500,:2]=dist1\n",
    "data[500:,:2]=dist2\n",
    "data[500:,-1]=1     #List is vectorized\n",
    "print(data.shape)\n",
    "data.mean(axis=0)   #Takes the mean of each column\n"
   ]
  },
  {
   "cell_type": "code",
   "execution_count": 7,
   "metadata": {},
   "outputs": [
    {
     "name": "stdout",
     "output_type": "stream",
     "text": [
      "[[3.46919956 4.68636267 0.        ]\n",
      " [4.8464512  3.70218812 0.        ]\n",
      " [6.34737327 3.23966242 0.        ]\n",
      " [6.34516876 4.84745094 0.        ]\n",
      " [5.32640557 1.72761312 0.        ]\n",
      " [4.7759454  3.89469225 0.        ]\n",
      " [2.67085762 4.67404266 0.        ]\n",
      " [5.14287212 2.81612918 0.        ]\n",
      " [5.09097636 4.17775962 0.        ]\n",
      " [3.86392948 1.71639023 0.        ]]\n"
     ]
    }
   ],
   "source": [
    "print(data[:10])"
   ]
  },
  {
   "cell_type": "code",
   "execution_count": 8,
   "metadata": {},
   "outputs": [
    {
     "name": "stdout",
     "output_type": "stream",
     "text": [
      "[[ 8.28575871  7.4875248   1.        ]\n",
      " [ 8.53006464  6.10757494  1.        ]\n",
      " [ 4.66673642  5.44725123  0.        ]\n",
      " [ 7.92289067  7.55407029  1.        ]\n",
      " [ 7.35059526  7.2111859   1.        ]\n",
      " [10.39052532  4.85622706  1.        ]\n",
      " [ 5.37639775  4.91923539  0.        ]\n",
      " [ 3.77593792  3.45340423  0.        ]\n",
      " [ 8.89611537  8.39674106  1.        ]\n",
      " [ 9.3567863   5.99690313  1.        ]]\n"
     ]
    }
   ],
   "source": [
    "np.random.shuffle(data)                # 0 represents Rs.5 coins & 1 represents Rs.10 ones\n",
    "print(data[:10])"
   ]
  },
  {
   "cell_type": "code",
   "execution_count": 9,
   "metadata": {},
   "outputs": [],
   "source": [
    "def distance(a,b):\n",
    "    return np.sum((b-a)**2)**0.5 #L2 distance(Euclidean)"
   ]
  },
  {
   "cell_type": "code",
   "execution_count": 10,
   "metadata": {},
   "outputs": [],
   "source": [
    "def knn(x_train,y_train,test_point,k=10):\n",
    "    vals=[]\n",
    "    for i in range(x_train.shape[0]): #Tuple has dimension 1000,2 \n",
    "        d=distance(x_train[i],test_point) #Always check arguments ki kitni values hai\n",
    "        vals.append([d, y_train[i]])\n",
    "        \n",
    "    sorted_labels=sorted(vals,key=lambda vals:vals[0])\n",
    "    neighbors= np.asarray(sorted_labels)[:k,-1] # np.asarray saves memory by not duplicating\n",
    "    #print(\"The K-Nearest-Neighbors are: \",neighbors) #To see all the neares neighbors\n",
    "    freq = np.unique(neighbors, return_counts=True) #prints unique value but counts helps to count \n",
    "    index = freq[1].argmax()  #returns the index of where the most no. of times a nearby value occurs\n",
    "    return freq[0][index]  #returns the type of coin that has most nearest neighbors\n",
    "    "
   ]
  },
  {
   "cell_type": "code",
   "execution_count": 17,
   "metadata": {},
   "outputs": [
    {
     "data": {
      "text/plain": [
       "<matplotlib.legend.Legend at 0x1143e6fa0>"
      ]
     },
     "execution_count": 17,
     "metadata": {},
     "output_type": "execute_result"
    },
    {
     "data": {
      "image/png": "[encoded data removed]",
      "text/plain": [
       "<Figure size 432x288 with 1 Axes>"
      ]
     },
     "metadata": {
      "needs_background": "light"
     },
     "output_type": "display_data"
    }
   ],
   "source": [
    "x_train = data[:,:2]\n",
    "y_train = data[:,-1]\n",
    "test_point = np.array( [,] )\n",
    "\n",
    "plt.scatter(test_point[0],test_point[1],label='Given test coin')\n",
    "plt.scatter(dist1[:,0],dist1[:,1], label='Rs.5 coins')\n",
    "plt.scatter(dist2[:,0],dist2[:,1],label='Rs.10 coins')\n",
    "plt.legend()"
   ]
  },
  {
   "cell_type": "code",
   "execution_count": 16,
   "metadata": {},
   "outputs": [
    {
     "name": "stdout",
     "output_type": "stream",
     "text": [
      "It's a Rs.5 coin, mate!\n"
     ]
    }
   ],
   "source": [
    "answer= knn(x_train,y_train,test_point)\n",
    "if(answer==1.0):\n",
    "    print(\"It's a Rs.10 coin, mate!\")\n",
    "elif(answer==0.0):\n",
    "    print(\"It's a Rs.5 coin, mate!\")"
   ]
  },
  {
   "cell_type": "code",
   "execution_count": 12,
   "metadata": {},
   "outputs": [
    {
     "name": "stdout",
     "output_type": "stream",
     "text": [
      "(750, 2) (750,)\n",
      "(250, 2) (250,)\n"
     ]
    }
   ],
   "source": [
    "split=int(0.75*data.shape[0])\n",
    "x_train=data[:split,:2]\n",
    "y_train=data[:split,-1]\n",
    "x_test=data[split:,:2]\n",
    "y_test=data[split:,-1]\n",
    "print(x_train.shape, y_train.shape)\n",
    "print(x_test.shape, y_test.shape)"
   ]
  },
  {
   "cell_type": "code",
   "execution_count": 13,
   "metadata": {},
   "outputs": [],
   "source": [
    "def acc(k):\n",
    "    \n",
    "    predictions=[]\n",
    "    \n",
    "    for i in range(x_test.shape[0]):\n",
    "        test_point = x_test[i]\n",
    "        predicted_label=knn(x_train, y_train, test_point,k)\n",
    "        predictions.append(predicted_label)\n",
    "    pred=np.asarray(predictions)\n",
    "    # print(y_test==pred) #This is to see all test cases results\n",
    "    \n",
    "    return ( 100 *(y_test==pred).sum()/len(pred) ) "
   ]
  },
  {
   "cell_type": "code",
   "execution_count": 14,
   "metadata": {},
   "outputs": [
    {
     "name": "stdout",
     "output_type": "stream",
     "text": [
      "Accuracy of this KNN algo for k=1 is: 98.4\n",
      "Accuracy of this KNN algo for k=2 is: 98.4\n",
      "Accuracy of this KNN algo for k=3 is: 98.8\n",
      "Accuracy of this KNN algo for k=4 is: 98.8\n",
      "Accuracy of this KNN algo for k=5 is: 98.8\n",
      "Accuracy of this KNN algo for k=6 is: 98.8\n",
      "Accuracy of this KNN algo for k=7 is: 98.4\n",
      "Accuracy of this KNN algo for k=8 is: 98.8\n",
      "Accuracy of this KNN algo for k=9 is: 98.8\n"
     ]
    }
   ],
   "source": [
    "for i in range (1,10):\n",
    "    print (f\"Accuracy of this KNN algo for k={i} is: {acc(i)}\")"
   ]
  },
  {
   "cell_type": "code",
   "execution_count": 15,
   "metadata": {},
   "outputs": [
    {
     "ename": "ModuleNotFoundError",
     "evalue": "No module named 'sklearn'",
     "output_type": "error",
     "traceback": [
      "\u001b[0;31m---------------------------------------------------------------------------\u001b[0m",
      "\u001b[0;31mModuleNotFoundError\u001b[0m                       Traceback (most recent call last)",
      "\u001b[0;32m<ipython-input-15-b7c74cbf5af0>\u001b[0m in \u001b[0;36m<module>\u001b[0;34m\u001b[0m\n\u001b[0;32m----> 1\u001b[0;31m \u001b[0;32mimport\u001b[0m \u001b[0msklearn\u001b[0m\u001b[0;34m\u001b[0m\u001b[0;34m\u001b[0m\u001b[0m\n\u001b[0m",
      "\u001b[0;31mModuleNotFoundError\u001b[0m: No module named 'sklearn'"
     ]
    }
   ],
   "source": [
    "import sklearn"
   ]
  },
  {
   "cell_type": "code",
   "execution_count": null,
   "metadata": {},
   "outputs": [],
   "source": [
    "from sklearn.neighbors import KNeighborsClassifier"
   ]
  },
  {
   "cell_type": "code",
   "execution_count": null,
   "metadata": {},
   "outputs": [],
   "source": [
    "neigh = KNeighborsClassifier(n_neighbors=5)\n",
    "neigh.fit(x_train,y_train)\n",
    "neigh.score(x_test,y_test)"
   ]
  },
  {
   "cell_type": "code",
   "execution_count": null,
   "metadata": {},
   "outputs": [],
   "source": []
  }
 ],
 "metadata": {
  "kernelspec": {
   "display_name": "Python 3",
   "language": "python",
   "name": "python3"
  },
  "language_info": {
   "codemirror_mode": {
    "name": "ipython",
    "version": 3
   },
   "file_extension": ".py",
   "mimetype": "text/x-python",
   "name": "python",
   "nbconvert_exporter": "python",
   "pygments_lexer": "ipython3",
   "version": "3.8.0"
  }
 },
 "nbformat": 4,
 "nbformat_minor": 2
}
