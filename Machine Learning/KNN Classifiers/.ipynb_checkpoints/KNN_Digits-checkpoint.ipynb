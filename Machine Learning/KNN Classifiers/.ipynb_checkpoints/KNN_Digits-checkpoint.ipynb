{
 "cells": [
  {
   "cell_type": "code",
   "execution_count": 1,
   "metadata": {},
   "outputs": [],
   "source": [
    "import numpy as np\n",
    "import pandas as pd\n",
    "import matplotlib.pyplot as plt\n",
    "%matplotlib inline\n",
    "import sklearn"
   ]
  },
  {
   "cell_type": "code",
   "execution_count": 2,
   "metadata": {},
   "outputs": [],
   "source": [
    "from sklearn.datasets import load_digits #Check out scikit documentation for toy datasets\n",
    "dataset = load_digits()"
   ]
  },
  {
   "cell_type": "code",
   "execution_count": 3,
   "metadata": {},
   "outputs": [
    {
     "name": "stdout",
     "output_type": "stream",
     "text": [
      "dict_keys(['data', 'target', 'target_names', 'images', 'DESCR'])\n"
     ]
    }
   ],
   "source": [
    "print(dataset.keys()) #Data is x values (images) & Target is y values (label)"
   ]
  },
  {
   "cell_type": "code",
   "execution_count": 4,
   "metadata": {},
   "outputs": [],
   "source": [
    "#check out how to deal with tensors using python"
   ]
  },
  {
   "cell_type": "code",
   "execution_count": 5,
   "metadata": {},
   "outputs": [
    {
     "data": {
      "text/plain": [
       "(1797, 64)"
      ]
     },
     "execution_count": 5,
     "metadata": {},
     "output_type": "execute_result"
    }
   ],
   "source": [
    "dataset['data'].shape"
   ]
  },
  {
   "cell_type": "code",
   "execution_count": 6,
   "metadata": {},
   "outputs": [
    {
     "data": {
      "text/plain": [
       "(1797,)"
      ]
     },
     "execution_count": 6,
     "metadata": {},
     "output_type": "execute_result"
    }
   ],
   "source": [
    "dataset['target'].shape"
   ]
  },
  {
   "cell_type": "code",
   "execution_count": 23,
   "metadata": {},
   "outputs": [
    {
     "data": {
      "text/plain": [
       "(1797, 8, 8)"
      ]
     },
     "execution_count": 23,
     "metadata": {},
     "output_type": "execute_result"
    }
   ],
   "source": [
    "dataset['images'].shape #We don't wanna deal with tensors. So use (data) for x-axis"
   ]
  },
  {
   "cell_type": "code",
   "execution_count": 8,
   "metadata": {},
   "outputs": [
    {
     "data": {
      "text/plain": [
       "array([0, 1, 2, 3, 4, 5, 6, 7, 8, 9])"
      ]
     },
     "execution_count": 8,
     "metadata": {},
     "output_type": "execute_result"
    }
   ],
   "source": [
    "dataset['target_names']"
   ]
  },
  {
   "cell_type": "code",
   "execution_count": 71,
   "metadata": {},
   "outputs": [
    {
     "name": "stdout",
     "output_type": "stream",
     "text": [
      "DATA IS: \n",
      " 15.0\n",
      "\n",
      "Corresponding image is :\n"
     ]
    },
    {
     "data": {
      "text/plain": [
       "<matplotlib.image.AxesImage at 0x28e1f9935c0>"
      ]
     },
     "execution_count": 71,
     "metadata": {},
     "output_type": "execute_result"
    },
    {
     "data": {
      "image/png": "[encoded data removed]",
      "text/plain": [
       "<Figure size 432x288 with 1 Axes>"
      ]
     },
     "metadata": {
      "needs_background": "light"
     },
     "output_type": "display_data"
    }
   ],
   "source": [
    "print(\"DATA IS: \\n\",dataset['data'][2])\n",
    "print(\"\\nCorresponding image is :\")\n",
    "plt.imshow(dataset['images'][2], cmap='gray')"
   ]
  },
  {
   "cell_type": "code",
   "execution_count": 16,
   "metadata": {},
   "outputs": [],
   "source": [
    "from sklearn.model_selection import train_test_split #We already have data and labels\n",
    "x_train,x_test,y_train,y_test=train_test_split(dataset['data'],dataset['target']) #splits by default into 75% train & 25% test"
   ]
  },
  {
   "cell_type": "code",
   "execution_count": 17,
   "metadata": {},
   "outputs": [
    {
     "name": "stdout",
     "output_type": "stream",
     "text": [
      "(1347, 64) (450, 64) (1347,) (450,)\n"
     ]
    }
   ],
   "source": [
    "print(x_train.shape,x_test.shape,y_train.shape,y_test.shape)"
   ]
  },
  {
   "cell_type": "code",
   "execution_count": 26,
   "metadata": {},
   "outputs": [],
   "source": [
    "def distance(a,b): #L1 Manhattan distance\n",
    "    l1=np.sum(abs(a-b))\n",
    "    return l1"
   ]
  },
  {
   "cell_type": "code",
   "execution_count": 68,
   "metadata": {},
   "outputs": [
    {
     "name": "stdout",
     "output_type": "stream",
     "text": [
      "Score for k =  1  is:\t 0.9933333333333333\n",
      "Score for k =  2  is:\t 0.9844444444444445\n",
      "Score for k =  3  is:\t 0.9888888888888889\n",
      "Score for k =  4  is:\t 0.9844444444444445\n",
      "Score for k =  5  is:\t 0.9866666666666667\n",
      "Score for k =  6  is:\t 0.9866666666666667\n",
      "Score for k =  7  is:\t 0.9844444444444445\n",
      "Score for k =  8  is:\t 0.9822222222222222\n",
      "Score for k =  9  is:\t 0.9822222222222222\n",
      "Score for k =  10  is:\t 0.9777777777777777\n"
     ]
    }
   ],
   "source": [
    "from sklearn.neighbors import KNeighborsClassifier\n",
    "for k in range(1,11):\n",
    "    neigh = KNeighborsClassifier(n_neighbors=k)\n",
    "    neigh.fit(x_train,y_train)\n",
    "    print(\"Score for k = \",k,\" is:\\t\",neigh.score(x_test,y_test))"
   ]
  },
  {
   "cell_type": "code",
   "execution_count": 13,
   "metadata": {},
   "outputs": [
    {
     "data": {
      "text/plain": [
       "<matplotlib.image.AxesImage at 0x23a778d7710>"
      ]
     },
     "execution_count": 13,
     "metadata": {},
     "output_type": "execute_result"
    },
    {
     "data": {
      "image/png": "[encoded data removed]",
      "text/plain": [
       "<Figure size 432x288 with 1 Axes>"
      ]
     },
     "metadata": {
      "needs_background": "light"
     },
     "output_type": "display_data"
    }
   ],
   "source": [
    "#RECOGNIZE HANDWRITTEN DIGITS\n",
    "plt.imshow(dataset['images'][9])"
   ]
  },
  {
   "cell_type": "code",
   "execution_count": null,
   "metadata": {},
   "outputs": [
    {
     "name": "stdout",
     "output_type": "stream",
     "text": [
      "Enter number whose image I'll vary for testing\n",
      "3\n",
      "\n",
      "Now, let's move towards the testing: \n",
      "\n",
      "\n",
      "The given image data seems to me as it was of the number  3 \n",
      "\n"
     ]
    }
   ],
   "source": [
    "import numpy as np\n",
    "import pandas as pd\n",
    "import matplotlib.pyplot as plt\n",
    "%matplotlib inline\n",
    "import sklearn\n",
    "\n",
    "from sklearn.datasets import load_digits #We already have data and labels\n",
    "dataset = load_digits()\n",
    "from sklearn.model_selection import train_test_split \n",
    "\n",
    "def distance(a,b): #L1 Manhattan distance\n",
    "    l1=np.sum(abs(a-b))\n",
    "    return l1\n",
    "\n",
    "def knn(x_train,y_train,test_point,k):\n",
    "    vals=[]\n",
    "    for i in range(x_train.shape[0]): #Tuple has dimension 1797,64 \n",
    "        d=distance(x_train[i],test_point)\n",
    "        vals.append([d, y_train[i]])\n",
    "        \n",
    "    sorted_labels=sorted(vals,key=lambda vals:vals[0])\n",
    "    neighbors= np.asarray(sorted_labels)[:k,-1] # np.asarray saves memory by not duplicating\n",
    "    freq = np.unique(neighbors, return_counts=True) #prints unique value but return_counts helps to count \n",
    "    index = freq[1].argmax()  #returns the index of where the most no. of times a nearby value occurs\n",
    "    return freq[0][index] \n",
    "\n",
    "j=int(input(\"Enter number whose image I'll vary for testing\\n\"))\n",
    "if j<0 or j>9:\n",
    "    print(\"\\n\\tOnly 0-9 ! \\nDON'T TRY TO BE OVERSMART\")\n",
    "    exit()\n",
    "x_train=dataset['data']\n",
    "y_train=dataset['target']\n",
    "for i in range(3):\n",
    "    dataset['data'][j][i]=0 #Remove 3 values out of 64 of the elements for testing purposes\n",
    "plt.imshow(dataset['images'][j])\n",
    "print(\"\\nNow, let's move towards the testing: \\n\")\n",
    "test_point=dataset['data'][j]\n",
    "\n",
    "answer = knn(x_train,y_train,test_point,9)\n",
    "print(\"\\nThe given image data seems to me as it was of the number \",int(answer),\"\\n\")\n",
    "user=input(\"Was I correct? \")\n",
    "if user.lower() == \"yes\":\n",
    "    print(\"\\nHurray, A.I rocks !\\nAfter all, robots 'ARE' better than humans of course.\")\n",
    "elif user.lower() == \"no\":\n",
    "    print(\"\\nAww. But, I mean, weren't YOU the one who wrote the code?\\nSo,'YOU' are at fault here!\")\n",
    "else:\n",
    "    print(\"\\nWhat are you writing, mate?!\\nGo learn English before you decide to come back!\")\n",
    "print(\"\\nBTW The image used was this one: \\t\")"
   ]
  },
  {
   "cell_type": "code",
   "execution_count": null,
   "metadata": {},
   "outputs": [],
   "source": []
  }
 ],
 "metadata": {
  "kernelspec": {
   "display_name": "Python 3",
   "language": "python",
   "name": "python3"
  },
  "language_info": {
   "codemirror_mode": {
    "name": "ipython",
    "version": 3
   },
   "file_extension": ".py",
   "mimetype": "text/x-python",
   "name": "python",
   "nbconvert_exporter": "python",
   "pygments_lexer": "ipython3",
   "version": "3.8.0"
  }
 },
 "nbformat": 4,
 "nbformat_minor": 2
}
