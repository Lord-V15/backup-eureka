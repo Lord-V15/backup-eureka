{
 "cells": [
  {
   "cell_type": "code",
   "execution_count": 1,
   "metadata": {},
   "outputs": [
    {
     "name": "stdout",
     "output_type": "stream",
     "text": [
      "Enter number whose image I'll vary for testing\n",
      "9\n",
      "\n",
      "Now, let's move towards the testing: \n",
      "\n",
      "\n",
      "The given image data seems to me as it was of the number  9 \n",
      "\n",
      "Was I correct? yes\n",
      "\n",
      "Hurray, A.I rocks !\n",
      "After all, robots 'ARE' better than humans of course.\n",
      "\n",
      "BTW The image used was this one: \t\n"
     ]
    },
    {
     "data": {
      "image/png": "[encoded data removed]",
      "text/plain": [
       "<Figure size 432x288 with 1 Axes>"
      ]
     },
     "metadata": {
      "needs_background": "light"
     },
     "output_type": "display_data"
    }
   ],
   "source": [
    "import numpy as np\n",
    "import pandas as pd\n",
    "import matplotlib.pyplot as plt\n",
    "%matplotlib inline\n",
    "import sklearn\n",
    "\n",
    "from sklearn.datasets import load_digits #We already have data and labels\n",
    "dataset = load_digits()\n",
    "from sklearn.model_selection import train_test_split \n",
    "\n",
    "def distance(a,b): #L1 Manhattan distance\n",
    "    l1=np.sum(abs(a-b))\n",
    "    return l1\n",
    "\n",
    "def knn(x_train,y_train,test_point,k):\n",
    "    vals=[]\n",
    "    for i in range(x_train.shape[0]): #Tuple has dimension 1797,64 \n",
    "        d=distance(x_train[i],test_point)\n",
    "        vals.append([d, y_train[i]])\n",
    "        \n",
    "    sorted_labels=sorted(vals,key=lambda vals:vals[0])\n",
    "    neighbors= np.asarray(sorted_labels)[:k,-1] # np.asarray saves memory by not duplicating\n",
    "    freq = np.unique(neighbors, return_counts=True) #prints unique value but return_counts helps to count \n",
    "    index = freq[1].argmax()  #returns the index of where the most no. of times a nearby value occurs\n",
    "    return freq[0][index] \n",
    "\n",
    "j=int(input(\"Enter number whose image I'll vary for testing\\n\"))\n",
    "if j<0 or j>9:\n",
    "    print(\"\\n\\tOnly 0-9 ! \\nDON'T TRY TO BE OVERSMART\")\n",
    "    exit()\n",
    "x_train=dataset['data']\n",
    "y_train=dataset['target']\n",
    "for i in range(3):\n",
    "    dataset['data'][j][i]=0 #Remove 3 values out of 64 of the elements for testing purposes\n",
    "plt.imshow(dataset['images'][j])\n",
    "print(\"\\nNow, let's move towards the testing: \\n\")\n",
    "test_point=dataset['data'][j]\n",
    "\n",
    "answer = knn(x_train,y_train,test_point,9)\n",
    "print(\"\\nThe given image data seems to me as it was of the number \",int(answer),\"\\n\")\n",
    "user=input(\"Was I correct? \")\n",
    "if user.lower() == \"yes\":\n",
    "    print(\"\\nHurray, A.I rocks !\\nAfter all, robots 'ARE' better than humans of course.\")\n",
    "elif user.lower() == \"no\":\n",
    "    print(\"\\nAww. But, I mean, weren't YOU the one who wrote the code?\\nSo,'YOU' are at fault here!\")\n",
    "else:\n",
    "    print(\"\\nWhat are you writing, mate?!\\nGo learn English before you decide to come back!\")\n",
    "print(\"\\nBTW The image used was this one: \\t\")"
   ]
  },
  {
   "cell_type": "code",
   "execution_count": 1,
   "metadata": {},
   "outputs": [],
   "source": [
    "#Designed from scratch by Lord_V"
   ]
  },
  {
   "cell_type": "code",
   "execution_count": null,
   "metadata": {},
   "outputs": [],
   "source": []
  }
 ],
 "metadata": {
  "kernelspec": {
   "display_name": "Python 3",
   "language": "python",
   "name": "python3"
  },
  "language_info": {
   "codemirror_mode": {
    "name": "ipython",
    "version": 3
   },
   "file_extension": ".py",
   "mimetype": "text/x-python",
   "name": "python",
   "nbconvert_exporter": "python",
   "pygments_lexer": "ipython3",
   "version": "3.7.3"
  }
 },
 "nbformat": 4,
 "nbformat_minor": 2
}
