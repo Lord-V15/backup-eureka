{
 "cells": [
  {
   "cell_type": "code",
   "execution_count": 1,
   "metadata": {},
   "outputs": [],
   "source": [
    "#Instance vs Parameter-based"
   ]
  },
  {
   "cell_type": "code",
   "execution_count": 2,
   "metadata": {},
   "outputs": [],
   "source": [
    "#KNN is instance-based\n",
    "import numpy as np"
   ]
  },
  {
   "cell_type": "code",
   "execution_count": 3,
   "metadata": {},
   "outputs": [
    {
     "data": {
      "text/plain": [
       "'\\n#Euclidean (L2)\\n#(x1,y1),(x2,y2)\\na=[1,2,3]\\nb=[4,5,6]\\na=np.array(a)\\nb=np.array(b)\\nl2=np.sum((b-a)**2)**0.5\\nprint(\"L2 dist is:\")\\nprint(l2)\\n#Manhattan (L1)\\nprint(\"L1 dist is:\")\\nl1=np.sum(abs(a-b))\\nprint(l1)\\n'"
      ]
     },
     "execution_count": 3,
     "metadata": {},
     "output_type": "execute_result"
    }
   ],
   "source": [
    "'''\n",
    "#Euclidean (L2)\n",
    "#(x1,y1),(x2,y2)\n",
    "a=[1,2,3]\n",
    "b=[4,5,6]\n",
    "a=np.array(a)\n",
    "b=np.array(b)\n",
    "l2=np.sum((b-a)**2)**0.5\n",
    "print(\"L2 dist is:\")\n",
    "print(l2)\n",
    "#Manhattan (L1)\n",
    "print(\"L1 dist is:\")\n",
    "l1=np.sum(abs(a-b))\n",
    "print(l1)\n",
    "'''"
   ]
  },
  {
   "cell_type": "code",
   "execution_count": 4,
   "metadata": {},
   "outputs": [],
   "source": [
    "import matplotlib.pyplot as plt\n",
    "%matplotlib inline"
   ]
  },
  {
   "cell_type": "code",
   "execution_count": 5,
   "metadata": {
    "scrolled": true
   },
   "outputs": [
    {
     "data": {
      "image/png": "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\n",
      "text/plain": [
       "<Figure size 432x288 with 1 Axes>"
      ]
     },
     "metadata": {
      "needs_background": "light"
     },
     "output_type": "display_data"
    }
   ],
   "source": [
    "mean1=np.array([5,4]) #mean\n",
    "cov1=np.array([[1,0.1],[0.1,1.2]]) #covariance\n",
    "dist1=np.random.multivariate_normal(mean1,cov1,500)\n",
    "mean2=np.array([9,7]) #mean\n",
    "cov2=np.array([[1,0.1],[0.1,1.2]]) #covariance\n",
    "dist2=np.random.multivariate_normal(mean2,cov2,500)\n",
    "plt.scatter(dist1[:,0],dist1[:,1],label='Rs.5 coin')\n",
    "plt.scatter(dist2[:,0],dist2[:,1],label='Rs.10 coin')\n",
    "plt.xlabel('Radius')\n",
    "plt.ylabel('Weight')\n",
    "plt.legend()\n",
    "plt.xlim(0,13)\n",
    "plt.ylim(0,12)\n",
    "plt.show()"
   ]
  },
  {
   "cell_type": "code",
   "execution_count": 6,
   "metadata": {},
   "outputs": [
    {
     "name": "stdout",
     "output_type": "stream",
     "text": [
      "(1000, 3)\n"
     ]
    },
    {
     "data": {
      "text/plain": [
       "array([6.994681  , 5.53851611, 0.5       ])"
      ]
     },
     "execution_count": 6,
     "metadata": {},
     "output_type": "execute_result"
    }
   ],
   "source": [
    "data=np.zeros((1000,3))\n",
    "data[:500,:2]=dist1\n",
    "data[500:,:2]=dist2\n",
    "data[500:,-1]=1     #List is vectorized\n",
    "print(data.shape)\n",
    "data.mean(axis=0)   #Takes the mean of each column\n"
   ]
  },
  {
   "cell_type": "code",
   "execution_count": 7,
   "metadata": {},
   "outputs": [
    {
     "name": "stdout",
     "output_type": "stream",
     "text": [
      "[[4.66518677 4.68168409 0.        ]\n",
      " [6.01677056 5.74727823 0.        ]\n",
      " [6.03558743 4.18590902 0.        ]\n",
      " [3.24635258 2.86215252 0.        ]\n",
      " [2.93623189 4.12801025 0.        ]\n",
      " [3.01143386 3.27712872 0.        ]\n",
      " [4.49843843 5.54506806 0.        ]\n",
      " [4.97247577 3.79908658 0.        ]\n",
      " [3.22872548 5.17864724 0.        ]\n",
      " [6.42179211 4.04123608 0.        ]]\n"
     ]
    }
   ],
   "source": [
    "print(data[:10])"
   ]
  },
  {
   "cell_type": "code",
   "execution_count": 8,
   "metadata": {},
   "outputs": [
    {
     "name": "stdout",
     "output_type": "stream",
     "text": [
      "[[9.70128315 6.61361401 1.        ]\n",
      " [5.27438148 4.86423671 0.        ]\n",
      " [6.05753037 4.24688019 0.        ]\n",
      " [4.96581009 3.42753506 0.        ]\n",
      " [9.33224021 5.90833138 1.        ]\n",
      " [6.15677242 4.73261017 0.        ]\n",
      " [7.49518599 8.61677686 1.        ]\n",
      " [9.19014453 8.07558861 1.        ]\n",
      " [7.25694439 6.30710195 1.        ]\n",
      " [4.29644931 5.97919221 0.        ]]\n"
     ]
    }
   ],
   "source": [
    "np.random.shuffle(data)                # 0 represents Rs.5 coins & 1 represents Rs.10 ones\n",
    "print(data[:10])"
   ]
  },
  {
   "cell_type": "code",
   "execution_count": 9,
   "metadata": {},
   "outputs": [],
   "source": [
    "def distance(a,b):\n",
    "    return np.sum((b-a)**2)**0.5 #L2 distance(Euclidean)"
   ]
  },
  {
   "cell_type": "code",
   "execution_count": 10,
   "metadata": {},
   "outputs": [],
   "source": [
    "def knn(x_train,y_train,test_point,k=10):\n",
    "    vals=[]\n",
    "    for i in range(x_train.shape[0]): #Tuple has dimension 1000,2 \n",
    "        d=distance(x_train[i],test_point) #Always check arguments ki kitni values hai\n",
    "        vals.append([d, y_train[i]])\n",
    "        \n",
    "    sorted_labels=sorted(vals,key=lambda vals:vals[0])\n",
    "    neighbors= np.asarray(sorted_labels)[:k,-1] # np.asarray saves memory by not duplicating\n",
    "    #print(\"The K-Nearest-Neighbors are: \",neighbors) #To see all the neares neighbors\n",
    "    freq = np.unique(neighbors, return_counts=True) #prints unique value but counts helps to count \n",
    "    index = freq[1].argmax()  #returns the index of where the most no. of times a nearby value occurs\n",
    "    return freq[0][index]  #returns the type of coin that has most nearest neighbors\n",
    "    "
   ]
  },
  {
   "cell_type": "code",
   "execution_count": 18,
   "metadata": {},
   "outputs": [
    {
     "name": "stdout",
     "output_type": "stream",
     "text": [
      "It's a Rs.5 coin, mate!\n"
     ]
    },
    {
     "data": {
      "text/plain": [
       "<matplotlib.legend.Legend at 0x20f13e889e8>"
      ]
     },
     "execution_count": 18,
     "metadata": {},
     "output_type": "execute_result"
    },
    {
     "data": {
      "image/png": "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\n",
      "text/plain": [
       "<Figure size 432x288 with 1 Axes>"
      ]
     },
     "metadata": {
      "needs_background": "light"
     },
     "output_type": "display_data"
    }
   ],
   "source": [
    "x_train = data[:,:2]\n",
    "y_train = data[:,-1]\n",
    "test_point = np.array( [7,4] )\n",
    "answer= knn(x_train,y_train,test_point)\n",
    "if(answer==1.0):\n",
    "    print(\"It's a Rs.10 coin, mate!\")\n",
    "elif(answer==0.0):\n",
    "    print(\"It's a Rs.5 coin, mate!\")\n",
    "plt.scatter(test_point[0],test_point[1],label='Given test coin')\n",
    "plt.scatter(dist1[:,0],dist1[:,1], label='Rs.5 coins')\n",
    "plt.scatter(dist2[:,0],dist2[:,1],label='Rs.10 coins')\n",
    "plt.legend()"
   ]
  },
  {
   "cell_type": "code",
   "execution_count": 12,
   "metadata": {},
   "outputs": [
    {
     "name": "stdout",
     "output_type": "stream",
     "text": [
      "(750, 2) (750,)\n",
      "(250, 2) (250,)\n"
     ]
    }
   ],
   "source": [
    "split=int(0.75*data.shape[0])\n",
    "x_train=data[:split,:2]\n",
    "y_train=data[:split,-1]\n",
    "x_test=data[split:,:2]\n",
    "y_test=data[split:,-1]\n",
    "print(x_train.shape, y_train.shape)\n",
    "print(x_test.shape, y_test.shape)"
   ]
  },
  {
   "cell_type": "code",
   "execution_count": 13,
   "metadata": {},
   "outputs": [],
   "source": [
    "def acc(k):\n",
    "    \n",
    "    predictions=[]\n",
    "    \n",
    "    for i in range(x_test.shape[0]):\n",
    "        test_point = x_test[i]\n",
    "        predicted_label=knn(x_train, y_train, test_point,k)\n",
    "        predictions.append(predicted_label)\n",
    "    pred=np.asarray(predictions)\n",
    "    # print(y_test==pred) #This is to see all test cases results\n",
    "    \n",
    "    return ( 100 *(y_test==pred).sum()/len(pred) ) "
   ]
  },
  {
   "cell_type": "code",
   "execution_count": 14,
   "metadata": {},
   "outputs": [
    {
     "name": "stdout",
     "output_type": "stream",
     "text": [
      "Accuracy of this KNN algo for k=1 is: 97.6\n",
      "Accuracy of this KNN algo for k=2 is: 97.2\n",
      "Accuracy of this KNN algo for k=3 is: 99.2\n",
      "Accuracy of this KNN algo for k=4 is: 98.8\n",
      "Accuracy of this KNN algo for k=5 is: 98.8\n",
      "Accuracy of this KNN algo for k=6 is: 98.8\n",
      "Accuracy of this KNN algo for k=7 is: 99.2\n",
      "Accuracy of this KNN algo for k=8 is: 99.2\n",
      "Accuracy of this KNN algo for k=9 is: 99.2\n"
     ]
    }
   ],
   "source": [
    "for i in range (1,10):\n",
    "    print (f\"Accuracy of this KNN algo for k={i} is: {acc(i)}\")"
   ]
  },
  {
   "cell_type": "code",
   "execution_count": 15,
   "metadata": {},
   "outputs": [],
   "source": [
    "import sklearn"
   ]
  },
  {
   "cell_type": "code",
   "execution_count": 16,
   "metadata": {},
   "outputs": [],
   "source": [
    "from sklearn.neighbors import KNeighborsClassifier"
   ]
  },
  {
   "cell_type": "code",
   "execution_count": 17,
   "metadata": {},
   "outputs": [
    {
     "data": {
      "text/plain": [
       "0.988"
      ]
     },
     "execution_count": 17,
     "metadata": {},
     "output_type": "execute_result"
    }
   ],
   "source": [
    "neigh = KNeighborsClassifier(n_neighbors=5)\n",
    "neigh.fit(x_train,y_train)\n",
    "neigh.score(x_test,y_test)"
   ]
  },
  {
   "cell_type": "code",
   "execution_count": null,
   "metadata": {},
   "outputs": [],
   "source": []
  }
 ],
 "metadata": {
  "kernelspec": {
   "display_name": "Python 3",
   "language": "python",
   "name": "python3"
  },
  "language_info": {
   "codemirror_mode": {
    "name": "ipython",
    "version": 3
   },
   "file_extension": ".py",
   "mimetype": "text/x-python",
   "name": "python",
   "nbconvert_exporter": "python",
   "pygments_lexer": "ipython3",
   "version": "3.7.3"
  }
 },
 "nbformat": 4,
 "nbformat_minor": 2
}
#DONE
