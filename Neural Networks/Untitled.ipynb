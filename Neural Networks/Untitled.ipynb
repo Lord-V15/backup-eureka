{
 "cells": [
  {
   "cell_type": "code",
   "execution_count": 5,
   "metadata": {},
   "outputs": [
    {
     "name": "stdout",
     "output_type": "stream",
     "text": [
      "Epoch 1/5\n",
      "60000/60000 [==============================] - 8s 127us/sample - loss: 0.2176 - acc: 0.9355\n",
      "Epoch 2/5\n",
      "60000/60000 [==============================] - 8s 129us/sample - loss: 0.0973 - acc: 0.9696\n",
      "Epoch 3/5\n",
      "60000/60000 [==============================] - 8s 136us/sample - loss: 0.0688 - acc: 0.9785\n",
      "Epoch 4/5\n",
      "60000/60000 [==============================] - 9s 143us/sample - loss: 0.0524 - acc: 0.9830\n",
      "Epoch 5/5\n",
      "60000/60000 [==============================] - 8s 130us/sample - loss: 0.0439 - acc: 0.9853\n",
      "10000/10000 [==============================] - 0s 39us/sample - loss: 0.0612 - acc: 0.9815\n"
     ]
    },
    {
     "data": {
      "text/plain": [
       "[0.06119357210532762, 0.9815]"
      ]
     },
     "execution_count": 5,
     "metadata": {},
     "output_type": "execute_result"
    }
   ],
   "source": [
    "import tensorflow as tf\n",
    "mnist = tf.keras.datasets.mnist\n",
    "\n",
    "(x_train, y_train),(x_test, y_test) = mnist.load_data()\n",
    "x_train, x_test = x_train / 255.0, x_test / 255.0\n",
    "\n",
    "model = tf.keras.models.Sequential([\n",
    "  tf.keras.layers.Flatten(input_shape=(28, 28)),\n",
    "  tf.keras.layers.Dense(512, activation=tf.nn.relu),\n",
    "  tf.keras.layers.Dropout(0.2),\n",
    "  tf.keras.layers.Dense(10, activation=tf.nn.softmax)\n",
    "])\n",
    "model.compile(optimizer='adam',\n",
    "              loss='sparse_categorical_crossentropy',\n",
    "              metrics=['accuracy'])\n",
    "\n",
    "model.fit(x_train, y_train, epochs=5)\n",
    "model.evaluate(x_test, y_test)\n"
   ]
  },
  {
   "cell_type": "code",
   "execution_count": null,
   "metadata": {},
   "outputs": [],
   "source": []
  }
 ],
 "metadata": {
  "kernelspec": {
   "display_name": "Python 3",
   "language": "python",
   "name": "python3"
  },
  "language_info": {
   "codemirror_mode": {
    "name": "ipython",
    "version": 3
   },
   "file_extension": ".py",
   "mimetype": "text/x-python",
   "name": "python",
   "nbconvert_exporter": "python",
   "pygments_lexer": "ipython3",
   "version": "3.7.3"
  }
 },
 "nbformat": 4,
 "nbformat_minor": 2
}
