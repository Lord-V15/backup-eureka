{
 "cells": [
  {
   "cell_type": "markdown",
   "metadata": {},
   "source": [
    "## QUESTION\n",
    "https://drive.google.com/file/d/1Hrvv47jeHhBpsm7zfjqrkp3NzqBlgmtT/view?usp=sharing"
   ]
  },
  {
   "cell_type": "markdown",
   "metadata": {},
   "source": [
    "## SOLUTION"
   ]
  },
  {
   "cell_type": "code",
   "execution_count": 15,
   "metadata": {},
   "outputs": [
    {
     "name": "stdout",
     "output_type": "stream",
     "text": [
      "2\n",
      "4\n",
      "19\n"
     ]
    }
   ],
   "source": [
    "A= [1,4,3,5,2,9]\n",
    "Y = 2\n",
    "total=0\n",
    "final_pos1=0\n",
    "final_pos2=1\n",
    "for i in range(len(A)):\n",
    "    oranges=0\n",
    "    pos1 = i\n",
    "    pos2 = pos1+Y\n",
    "    if pos2>= len(A)-(Y-1):\n",
    "        pos2= pos2 - len(A)\n",
    "    if pos1>=len(A)-(Y-1):\n",
    "        pos1= pos1 - len(A)\n",
    "        \n",
    "    for j in range(Y) :\n",
    "        oranges += A[pos1+j] + A[pos2+j]\n",
    "    \n",
    "    if oranges>total:\n",
    "        total = oranges\n",
    "        final_pos1=pos1\n",
    "        final_pos2=pos2\n",
    "\n",
    "print(final_pos1)\n",
    "print(final_pos2)\n",
    "print(total)"
   ]
  },
  {
   "cell_type": "code",
   "execution_count": null,
   "metadata": {},
   "outputs": [],
   "source": []
  },
  {
   "cell_type": "code",
   "execution_count": null,
   "metadata": {},
   "outputs": [],
   "source": []
  }
 ],
 "metadata": {
  "kernelspec": {
   "display_name": "Python 3",
   "language": "python",
   "name": "python3"
  },
  "language_info": {
   "codemirror_mode": {
    "name": "ipython",
    "version": 3
   },
   "file_extension": ".py",
   "mimetype": "text/x-python",
   "name": "python",
   "nbconvert_exporter": "python",
   "pygments_lexer": "ipython3",
   "version": "3.7.7"
  }
 },
 "nbformat": 4,
 "nbformat_minor": 4
}
